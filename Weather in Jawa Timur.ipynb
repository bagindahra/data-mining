{
 "cells": [
  {
   "cell_type": "markdown",
   "id": "8f82acb6",
   "metadata": {},
   "source": [
    "## Import Library"
   ]
  },
  {
   "cell_type": "code",
   "execution_count": 1,
   "id": "6d476fff",
   "metadata": {},
   "outputs": [],
   "source": [
    "import pandas as pd\n",
    "import matplotlib.pyplot as plt\n",
    "import numpy as np\n",
    "import seaborn as sns\n",
    "from sklearn import preprocessing\n",
    "from sklearn.preprocessing import StandardScaler\n",
    "from sklearn.model_selection import train_test_split\n",
    "from sklearn.metrics import mean_squared_error, mean_absolute_error\n",
    "from sklearn.svm import SVC, LinearSVC\n",
    "from sklearn.metrics import f1_score, average_precision_score, accuracy_score\n",
    "from sklearn.metrics import confusion_matrix, classification_report, precision_score, recall_score\n",
    "\n",
    "pd.set_option('display.max_columns', None)"
   ]
  },
  {
   "cell_type": "markdown",
   "id": "fefc5c03",
   "metadata": {},
   "source": [
    "## Import Data"
   ]
  },
  {
   "cell_type": "code",
   "execution_count": 2,
   "id": "0fa686f7",
   "metadata": {},
   "outputs": [
    {
     "data": {
      "text/html": [
       "<div>\n",
       "<style scoped>\n",
       "    .dataframe tbody tr th:only-of-type {\n",
       "        vertical-align: middle;\n",
       "    }\n",
       "\n",
       "    .dataframe tbody tr th {\n",
       "        vertical-align: top;\n",
       "    }\n",
       "\n",
       "    .dataframe thead th {\n",
       "        text-align: right;\n",
       "    }\n",
       "</style>\n",
       "<table border=\"1\" class=\"dataframe\">\n",
       "  <thead>\n",
       "    <tr style=\"text-align: right;\">\n",
       "      <th></th>\n",
       "      <th>Bulan</th>\n",
       "      <th>Hari</th>\n",
       "      <th>Kecepatan Angin(knot)</th>\n",
       "      <th>Penyinaran Matahari(persen)</th>\n",
       "      <th>Tekana Udara(mb)</th>\n",
       "      <th>Cura Hujan(mm3)</th>\n",
       "      <th>maks kelembapan udara(persen)</th>\n",
       "      <th>min kelembapan udara(persen)</th>\n",
       "      <th>ratarata kelembapan udara(persen)</th>\n",
       "      <th>maks suhu udara(celsius)</th>\n",
       "      <th>min suhu udara(celsius)</th>\n",
       "      <th>ratarata suhu udara(celsius)</th>\n",
       "      <th>penghujan</th>\n",
       "    </tr>\n",
       "  </thead>\n",
       "  <tbody>\n",
       "    <tr>\n",
       "      <th>0</th>\n",
       "      <td>Januari</td>\n",
       "      <td>29.0</td>\n",
       "      <td>8.8</td>\n",
       "      <td>46.0</td>\n",
       "      <td>1007.4</td>\n",
       "      <td>400.7</td>\n",
       "      <td>97.0</td>\n",
       "      <td>56.0</td>\n",
       "      <td>83.0</td>\n",
       "      <td>34.7</td>\n",
       "      <td>23.9</td>\n",
       "      <td>27.5</td>\n",
       "      <td>1</td>\n",
       "    </tr>\n",
       "    <tr>\n",
       "      <th>1</th>\n",
       "      <td>Februari</td>\n",
       "      <td>24.0</td>\n",
       "      <td>9.5</td>\n",
       "      <td>51.0</td>\n",
       "      <td>1006.1</td>\n",
       "      <td>257.6</td>\n",
       "      <td>97.0</td>\n",
       "      <td>51.0</td>\n",
       "      <td>82.0</td>\n",
       "      <td>33.8</td>\n",
       "      <td>23.7</td>\n",
       "      <td>27.7</td>\n",
       "      <td>1</td>\n",
       "    </tr>\n",
       "    <tr>\n",
       "      <th>2</th>\n",
       "      <td>Maret</td>\n",
       "      <td>24.0</td>\n",
       "      <td>7.0</td>\n",
       "      <td>55.0</td>\n",
       "      <td>1007.9</td>\n",
       "      <td>193.8</td>\n",
       "      <td>98.0</td>\n",
       "      <td>55.0</td>\n",
       "      <td>81.0</td>\n",
       "      <td>34.0</td>\n",
       "      <td>23.0</td>\n",
       "      <td>27.9</td>\n",
       "      <td>1</td>\n",
       "    </tr>\n",
       "    <tr>\n",
       "      <th>3</th>\n",
       "      <td>April</td>\n",
       "      <td>21.0</td>\n",
       "      <td>6.5</td>\n",
       "      <td>64.0</td>\n",
       "      <td>1007.9</td>\n",
       "      <td>283.2</td>\n",
       "      <td>96.0</td>\n",
       "      <td>56.0</td>\n",
       "      <td>81.0</td>\n",
       "      <td>33.4</td>\n",
       "      <td>24.0</td>\n",
       "      <td>28.2</td>\n",
       "      <td>1</td>\n",
       "    </tr>\n",
       "    <tr>\n",
       "      <th>4</th>\n",
       "      <td>Mei</td>\n",
       "      <td>10.0</td>\n",
       "      <td>7.5</td>\n",
       "      <td>91.0</td>\n",
       "      <td>1008.8</td>\n",
       "      <td>75.6</td>\n",
       "      <td>93.0</td>\n",
       "      <td>46.0</td>\n",
       "      <td>75.0</td>\n",
       "      <td>34.0</td>\n",
       "      <td>23.0</td>\n",
       "      <td>28.6</td>\n",
       "      <td>1</td>\n",
       "    </tr>\n",
       "    <tr>\n",
       "      <th>5</th>\n",
       "      <td>Juni</td>\n",
       "      <td>16.0</td>\n",
       "      <td>8.0</td>\n",
       "      <td>75.0</td>\n",
       "      <td>1008.6</td>\n",
       "      <td>53.0</td>\n",
       "      <td>97.0</td>\n",
       "      <td>46.0</td>\n",
       "      <td>77.0</td>\n",
       "      <td>33.0</td>\n",
       "      <td>22.4</td>\n",
       "      <td>27.9</td>\n",
       "      <td>1</td>\n",
       "    </tr>\n",
       "    <tr>\n",
       "      <th>6</th>\n",
       "      <td>Juli</td>\n",
       "      <td>3.0</td>\n",
       "      <td>7.0</td>\n",
       "      <td>88.0</td>\n",
       "      <td>1011.2</td>\n",
       "      <td>39.8</td>\n",
       "      <td>94.0</td>\n",
       "      <td>46.0</td>\n",
       "      <td>74.0</td>\n",
       "      <td>32.6</td>\n",
       "      <td>21.3</td>\n",
       "      <td>27.5</td>\n",
       "      <td>0</td>\n",
       "    </tr>\n",
       "    <tr>\n",
       "      <th>7</th>\n",
       "      <td>Agustus</td>\n",
       "      <td>0.0</td>\n",
       "      <td>8.3</td>\n",
       "      <td>96.0</td>\n",
       "      <td>1010.6</td>\n",
       "      <td>0.0</td>\n",
       "      <td>90.0</td>\n",
       "      <td>42.0</td>\n",
       "      <td>71.0</td>\n",
       "      <td>32.6</td>\n",
       "      <td>20.7</td>\n",
       "      <td>27.3</td>\n",
       "      <td>0</td>\n",
       "    </tr>\n",
       "    <tr>\n",
       "      <th>8</th>\n",
       "      <td>September</td>\n",
       "      <td>1.0</td>\n",
       "      <td>8.5</td>\n",
       "      <td>88.0</td>\n",
       "      <td>1010.4</td>\n",
       "      <td>0.3</td>\n",
       "      <td>89.0</td>\n",
       "      <td>28.0</td>\n",
       "      <td>69.0</td>\n",
       "      <td>35.1</td>\n",
       "      <td>21.5</td>\n",
       "      <td>28.3</td>\n",
       "      <td>0</td>\n",
       "    </tr>\n",
       "    <tr>\n",
       "      <th>9</th>\n",
       "      <td>Oktober</td>\n",
       "      <td>3.0</td>\n",
       "      <td>7.7</td>\n",
       "      <td>49.0</td>\n",
       "      <td>1006.0</td>\n",
       "      <td>83.3</td>\n",
       "      <td>90.0</td>\n",
       "      <td>40.0</td>\n",
       "      <td>69.0</td>\n",
       "      <td>35.9</td>\n",
       "      <td>24.0</td>\n",
       "      <td>29.8</td>\n",
       "      <td>0</td>\n",
       "    </tr>\n",
       "    <tr>\n",
       "      <th>10</th>\n",
       "      <td>November</td>\n",
       "      <td>17.0</td>\n",
       "      <td>7.0</td>\n",
       "      <td>49.0</td>\n",
       "      <td>1006.0</td>\n",
       "      <td>309.2</td>\n",
       "      <td>99.0</td>\n",
       "      <td>45.0</td>\n",
       "      <td>79.0</td>\n",
       "      <td>34.8</td>\n",
       "      <td>26.7</td>\n",
       "      <td>28.2</td>\n",
       "      <td>1</td>\n",
       "    </tr>\n",
       "    <tr>\n",
       "      <th>11</th>\n",
       "      <td>Desember</td>\n",
       "      <td>26.0</td>\n",
       "      <td>7.7</td>\n",
       "      <td>46.0</td>\n",
       "      <td>1006.4</td>\n",
       "      <td>427.3</td>\n",
       "      <td>97.0</td>\n",
       "      <td>42.0</td>\n",
       "      <td>80.0</td>\n",
       "      <td>34.7</td>\n",
       "      <td>23.1</td>\n",
       "      <td>28.0</td>\n",
       "      <td>1</td>\n",
       "    </tr>\n",
       "  </tbody>\n",
       "</table>\n",
       "</div>"
      ],
      "text/plain": [
       "        Bulan  Hari  Kecepatan Angin(knot)  Penyinaran Matahari(persen)  \\\n",
       "0     Januari  29.0                    8.8                         46.0   \n",
       "1    Februari  24.0                    9.5                         51.0   \n",
       "2       Maret  24.0                    7.0                         55.0   \n",
       "3       April  21.0                    6.5                         64.0   \n",
       "4         Mei  10.0                    7.5                         91.0   \n",
       "5        Juni  16.0                    8.0                         75.0   \n",
       "6        Juli   3.0                    7.0                         88.0   \n",
       "7     Agustus   0.0                    8.3                         96.0   \n",
       "8   September   1.0                    8.5                         88.0   \n",
       "9     Oktober   3.0                    7.7                         49.0   \n",
       "10   November  17.0                    7.0                         49.0   \n",
       "11   Desember  26.0                    7.7                         46.0   \n",
       "\n",
       "    Tekana Udara(mb)  Cura Hujan(mm3)  maks kelembapan udara(persen)  \\\n",
       "0             1007.4            400.7                           97.0   \n",
       "1             1006.1            257.6                           97.0   \n",
       "2             1007.9            193.8                           98.0   \n",
       "3             1007.9            283.2                           96.0   \n",
       "4             1008.8             75.6                           93.0   \n",
       "5             1008.6             53.0                           97.0   \n",
       "6             1011.2             39.8                           94.0   \n",
       "7             1010.6              0.0                           90.0   \n",
       "8             1010.4              0.3                           89.0   \n",
       "9             1006.0             83.3                           90.0   \n",
       "10            1006.0            309.2                           99.0   \n",
       "11            1006.4            427.3                           97.0   \n",
       "\n",
       "    min kelembapan udara(persen)  ratarata kelembapan udara(persen)  \\\n",
       "0                           56.0                               83.0   \n",
       "1                           51.0                               82.0   \n",
       "2                           55.0                               81.0   \n",
       "3                           56.0                               81.0   \n",
       "4                           46.0                               75.0   \n",
       "5                           46.0                               77.0   \n",
       "6                           46.0                               74.0   \n",
       "7                           42.0                               71.0   \n",
       "8                           28.0                               69.0   \n",
       "9                           40.0                               69.0   \n",
       "10                          45.0                               79.0   \n",
       "11                          42.0                               80.0   \n",
       "\n",
       "    maks suhu udara(celsius)  min suhu udara(celsius)  \\\n",
       "0                       34.7                     23.9   \n",
       "1                       33.8                     23.7   \n",
       "2                       34.0                     23.0   \n",
       "3                       33.4                     24.0   \n",
       "4                       34.0                     23.0   \n",
       "5                       33.0                     22.4   \n",
       "6                       32.6                     21.3   \n",
       "7                       32.6                     20.7   \n",
       "8                       35.1                     21.5   \n",
       "9                       35.9                     24.0   \n",
       "10                      34.8                     26.7   \n",
       "11                      34.7                     23.1   \n",
       "\n",
       "    ratarata suhu udara(celsius)  penghujan  \n",
       "0                           27.5          1  \n",
       "1                           27.7          1  \n",
       "2                           27.9          1  \n",
       "3                           28.2          1  \n",
       "4                           28.6          1  \n",
       "5                           27.9          1  \n",
       "6                           27.5          0  \n",
       "7                           27.3          0  \n",
       "8                           28.3          0  \n",
       "9                           29.8          0  \n",
       "10                          28.2          1  \n",
       "11                          28.0          1  "
      ]
     },
     "execution_count": 2,
     "metadata": {},
     "output_type": "execute_result"
    }
   ],
   "source": [
    "data = pd.read_excel('uas.xlsx')\n",
    "data"
   ]
  },
  {
   "cell_type": "markdown",
   "id": "4e9f4912",
   "metadata": {},
   "source": [
    "### Cek Data"
   ]
  },
  {
   "cell_type": "code",
   "execution_count": 3,
   "id": "e7bdb266",
   "metadata": {},
   "outputs": [
    {
     "data": {
      "text/plain": [
       "(12, 13)"
      ]
     },
     "execution_count": 3,
     "metadata": {},
     "output_type": "execute_result"
    }
   ],
   "source": [
    "data.shape"
   ]
  },
  {
   "cell_type": "code",
   "execution_count": 4,
   "id": "0b844a2d",
   "metadata": {},
   "outputs": [
    {
     "name": "stdout",
     "output_type": "stream",
     "text": [
      "<class 'pandas.core.frame.DataFrame'>\n",
      "RangeIndex: 12 entries, 0 to 11\n",
      "Data columns (total 13 columns):\n",
      " #   Column                             Non-Null Count  Dtype  \n",
      "---  ------                             --------------  -----  \n",
      " 0   Bulan                              12 non-null     object \n",
      " 1   Hari                               12 non-null     float64\n",
      " 2   Kecepatan Angin(knot)              12 non-null     float64\n",
      " 3   Penyinaran Matahari(persen)        12 non-null     float64\n",
      " 4   Tekana Udara(mb)                   12 non-null     float64\n",
      " 5   Cura Hujan(mm3)                    12 non-null     float64\n",
      " 6   maks kelembapan udara(persen)      12 non-null     float64\n",
      " 7   min kelembapan udara(persen)       12 non-null     float64\n",
      " 8   ratarata kelembapan udara(persen)  12 non-null     float64\n",
      " 9   maks suhu udara(celsius)           12 non-null     float64\n",
      " 10  min suhu udara(celsius)            12 non-null     float64\n",
      " 11  ratarata suhu udara(celsius)       12 non-null     float64\n",
      " 12  penghujan                          12 non-null     int64  \n",
      "dtypes: float64(11), int64(1), object(1)\n",
      "memory usage: 1.3+ KB\n"
     ]
    }
   ],
   "source": [
    "data.info()"
   ]
  },
  {
   "cell_type": "markdown",
   "id": "7922a239",
   "metadata": {},
   "source": [
    "## Data Cleaning"
   ]
  },
  {
   "cell_type": "code",
   "execution_count": 5,
   "id": "e00ff68d",
   "metadata": {},
   "outputs": [
    {
     "data": {
      "text/plain": [
       "Bulan                                0\n",
       "Hari                                 0\n",
       "Kecepatan Angin(knot)                0\n",
       "Penyinaran Matahari(persen)          0\n",
       "Tekana Udara(mb)                     0\n",
       "Cura Hujan(mm3)                      0\n",
       "maks kelembapan udara(persen)        0\n",
       "min kelembapan udara(persen)         0\n",
       "ratarata kelembapan udara(persen)    0\n",
       "maks suhu udara(celsius)             0\n",
       "min suhu udara(celsius)              0\n",
       "ratarata suhu udara(celsius)         0\n",
       "penghujan                            0\n",
       "dtype: int64"
      ]
     },
     "execution_count": 5,
     "metadata": {},
     "output_type": "execute_result"
    }
   ],
   "source": [
    "data.isnull().sum()"
   ]
  },
  {
   "cell_type": "code",
   "execution_count": 6,
   "id": "18117005",
   "metadata": {},
   "outputs": [],
   "source": [
    "## merubah nama kolom\n",
    "data.rename(columns={'Bulan':'Month',\n",
    "                     'Hari':'DayRain',\n",
    "                     'Kecepatan Angin(knot)':'WindSpeed',\n",
    "                     'Penyinaran Matahari(persen)':'Sunshine',\n",
    "                     'Tekana Udara(mb)':'Pressure',\n",
    "                     'Cura Hujan(mm3)':'Rainfall',\n",
    "                     'maks kelembapan udara(persen)':'MaxHumidity',\n",
    "                     'min kelembapan udara(persen)':'MinHumidity',\n",
    "                     'ratarata kelembapan udara(persen)':'Humidity',\n",
    "                     'maks suhu udara(celsius)':'MaxTemp',\n",
    "                     'min suhu udara(celsius)':'MinTemp',\n",
    "                     'ratarata suhu udara(celsius)':'Temp',\n",
    "                     'penghujan':'Rainy'}, inplace=True)"
   ]
  },
  {
   "cell_type": "code",
   "execution_count": 7,
   "id": "e02bf16a",
   "metadata": {},
   "outputs": [
    {
     "data": {
      "text/html": [
       "<div>\n",
       "<style scoped>\n",
       "    .dataframe tbody tr th:only-of-type {\n",
       "        vertical-align: middle;\n",
       "    }\n",
       "\n",
       "    .dataframe tbody tr th {\n",
       "        vertical-align: top;\n",
       "    }\n",
       "\n",
       "    .dataframe thead th {\n",
       "        text-align: right;\n",
       "    }\n",
       "</style>\n",
       "<table border=\"1\" class=\"dataframe\">\n",
       "  <thead>\n",
       "    <tr style=\"text-align: right;\">\n",
       "      <th></th>\n",
       "      <th>Month</th>\n",
       "      <th>DayRain</th>\n",
       "      <th>WindSpeed</th>\n",
       "      <th>Sunshine</th>\n",
       "      <th>Pressure</th>\n",
       "      <th>Rainfall</th>\n",
       "      <th>MaxHumidity</th>\n",
       "      <th>MinHumidity</th>\n",
       "      <th>Humidity</th>\n",
       "      <th>MaxTemp</th>\n",
       "      <th>MinTemp</th>\n",
       "      <th>Temp</th>\n",
       "      <th>Rainy</th>\n",
       "    </tr>\n",
       "  </thead>\n",
       "  <tbody>\n",
       "    <tr>\n",
       "      <th>0</th>\n",
       "      <td>Januari</td>\n",
       "      <td>29.0</td>\n",
       "      <td>8.8</td>\n",
       "      <td>46.0</td>\n",
       "      <td>1007.4</td>\n",
       "      <td>400.7</td>\n",
       "      <td>97.0</td>\n",
       "      <td>56.0</td>\n",
       "      <td>83.0</td>\n",
       "      <td>34.7</td>\n",
       "      <td>23.9</td>\n",
       "      <td>27.5</td>\n",
       "      <td>1</td>\n",
       "    </tr>\n",
       "    <tr>\n",
       "      <th>1</th>\n",
       "      <td>Februari</td>\n",
       "      <td>24.0</td>\n",
       "      <td>9.5</td>\n",
       "      <td>51.0</td>\n",
       "      <td>1006.1</td>\n",
       "      <td>257.6</td>\n",
       "      <td>97.0</td>\n",
       "      <td>51.0</td>\n",
       "      <td>82.0</td>\n",
       "      <td>33.8</td>\n",
       "      <td>23.7</td>\n",
       "      <td>27.7</td>\n",
       "      <td>1</td>\n",
       "    </tr>\n",
       "    <tr>\n",
       "      <th>2</th>\n",
       "      <td>Maret</td>\n",
       "      <td>24.0</td>\n",
       "      <td>7.0</td>\n",
       "      <td>55.0</td>\n",
       "      <td>1007.9</td>\n",
       "      <td>193.8</td>\n",
       "      <td>98.0</td>\n",
       "      <td>55.0</td>\n",
       "      <td>81.0</td>\n",
       "      <td>34.0</td>\n",
       "      <td>23.0</td>\n",
       "      <td>27.9</td>\n",
       "      <td>1</td>\n",
       "    </tr>\n",
       "    <tr>\n",
       "      <th>3</th>\n",
       "      <td>April</td>\n",
       "      <td>21.0</td>\n",
       "      <td>6.5</td>\n",
       "      <td>64.0</td>\n",
       "      <td>1007.9</td>\n",
       "      <td>283.2</td>\n",
       "      <td>96.0</td>\n",
       "      <td>56.0</td>\n",
       "      <td>81.0</td>\n",
       "      <td>33.4</td>\n",
       "      <td>24.0</td>\n",
       "      <td>28.2</td>\n",
       "      <td>1</td>\n",
       "    </tr>\n",
       "    <tr>\n",
       "      <th>4</th>\n",
       "      <td>Mei</td>\n",
       "      <td>10.0</td>\n",
       "      <td>7.5</td>\n",
       "      <td>91.0</td>\n",
       "      <td>1008.8</td>\n",
       "      <td>75.6</td>\n",
       "      <td>93.0</td>\n",
       "      <td>46.0</td>\n",
       "      <td>75.0</td>\n",
       "      <td>34.0</td>\n",
       "      <td>23.0</td>\n",
       "      <td>28.6</td>\n",
       "      <td>1</td>\n",
       "    </tr>\n",
       "    <tr>\n",
       "      <th>5</th>\n",
       "      <td>Juni</td>\n",
       "      <td>16.0</td>\n",
       "      <td>8.0</td>\n",
       "      <td>75.0</td>\n",
       "      <td>1008.6</td>\n",
       "      <td>53.0</td>\n",
       "      <td>97.0</td>\n",
       "      <td>46.0</td>\n",
       "      <td>77.0</td>\n",
       "      <td>33.0</td>\n",
       "      <td>22.4</td>\n",
       "      <td>27.9</td>\n",
       "      <td>1</td>\n",
       "    </tr>\n",
       "    <tr>\n",
       "      <th>6</th>\n",
       "      <td>Juli</td>\n",
       "      <td>3.0</td>\n",
       "      <td>7.0</td>\n",
       "      <td>88.0</td>\n",
       "      <td>1011.2</td>\n",
       "      <td>39.8</td>\n",
       "      <td>94.0</td>\n",
       "      <td>46.0</td>\n",
       "      <td>74.0</td>\n",
       "      <td>32.6</td>\n",
       "      <td>21.3</td>\n",
       "      <td>27.5</td>\n",
       "      <td>0</td>\n",
       "    </tr>\n",
       "    <tr>\n",
       "      <th>7</th>\n",
       "      <td>Agustus</td>\n",
       "      <td>0.0</td>\n",
       "      <td>8.3</td>\n",
       "      <td>96.0</td>\n",
       "      <td>1010.6</td>\n",
       "      <td>0.0</td>\n",
       "      <td>90.0</td>\n",
       "      <td>42.0</td>\n",
       "      <td>71.0</td>\n",
       "      <td>32.6</td>\n",
       "      <td>20.7</td>\n",
       "      <td>27.3</td>\n",
       "      <td>0</td>\n",
       "    </tr>\n",
       "    <tr>\n",
       "      <th>8</th>\n",
       "      <td>September</td>\n",
       "      <td>1.0</td>\n",
       "      <td>8.5</td>\n",
       "      <td>88.0</td>\n",
       "      <td>1010.4</td>\n",
       "      <td>0.3</td>\n",
       "      <td>89.0</td>\n",
       "      <td>28.0</td>\n",
       "      <td>69.0</td>\n",
       "      <td>35.1</td>\n",
       "      <td>21.5</td>\n",
       "      <td>28.3</td>\n",
       "      <td>0</td>\n",
       "    </tr>\n",
       "    <tr>\n",
       "      <th>9</th>\n",
       "      <td>Oktober</td>\n",
       "      <td>3.0</td>\n",
       "      <td>7.7</td>\n",
       "      <td>49.0</td>\n",
       "      <td>1006.0</td>\n",
       "      <td>83.3</td>\n",
       "      <td>90.0</td>\n",
       "      <td>40.0</td>\n",
       "      <td>69.0</td>\n",
       "      <td>35.9</td>\n",
       "      <td>24.0</td>\n",
       "      <td>29.8</td>\n",
       "      <td>0</td>\n",
       "    </tr>\n",
       "    <tr>\n",
       "      <th>10</th>\n",
       "      <td>November</td>\n",
       "      <td>17.0</td>\n",
       "      <td>7.0</td>\n",
       "      <td>49.0</td>\n",
       "      <td>1006.0</td>\n",
       "      <td>309.2</td>\n",
       "      <td>99.0</td>\n",
       "      <td>45.0</td>\n",
       "      <td>79.0</td>\n",
       "      <td>34.8</td>\n",
       "      <td>26.7</td>\n",
       "      <td>28.2</td>\n",
       "      <td>1</td>\n",
       "    </tr>\n",
       "    <tr>\n",
       "      <th>11</th>\n",
       "      <td>Desember</td>\n",
       "      <td>26.0</td>\n",
       "      <td>7.7</td>\n",
       "      <td>46.0</td>\n",
       "      <td>1006.4</td>\n",
       "      <td>427.3</td>\n",
       "      <td>97.0</td>\n",
       "      <td>42.0</td>\n",
       "      <td>80.0</td>\n",
       "      <td>34.7</td>\n",
       "      <td>23.1</td>\n",
       "      <td>28.0</td>\n",
       "      <td>1</td>\n",
       "    </tr>\n",
       "  </tbody>\n",
       "</table>\n",
       "</div>"
      ],
      "text/plain": [
       "        Month  DayRain  WindSpeed  Sunshine  Pressure  Rainfall  MaxHumidity  \\\n",
       "0     Januari     29.0        8.8      46.0    1007.4     400.7         97.0   \n",
       "1    Februari     24.0        9.5      51.0    1006.1     257.6         97.0   \n",
       "2       Maret     24.0        7.0      55.0    1007.9     193.8         98.0   \n",
       "3       April     21.0        6.5      64.0    1007.9     283.2         96.0   \n",
       "4         Mei     10.0        7.5      91.0    1008.8      75.6         93.0   \n",
       "5        Juni     16.0        8.0      75.0    1008.6      53.0         97.0   \n",
       "6        Juli      3.0        7.0      88.0    1011.2      39.8         94.0   \n",
       "7     Agustus      0.0        8.3      96.0    1010.6       0.0         90.0   \n",
       "8   September      1.0        8.5      88.0    1010.4       0.3         89.0   \n",
       "9     Oktober      3.0        7.7      49.0    1006.0      83.3         90.0   \n",
       "10   November     17.0        7.0      49.0    1006.0     309.2         99.0   \n",
       "11   Desember     26.0        7.7      46.0    1006.4     427.3         97.0   \n",
       "\n",
       "    MinHumidity  Humidity  MaxTemp  MinTemp  Temp  Rainy  \n",
       "0          56.0      83.0     34.7     23.9  27.5      1  \n",
       "1          51.0      82.0     33.8     23.7  27.7      1  \n",
       "2          55.0      81.0     34.0     23.0  27.9      1  \n",
       "3          56.0      81.0     33.4     24.0  28.2      1  \n",
       "4          46.0      75.0     34.0     23.0  28.6      1  \n",
       "5          46.0      77.0     33.0     22.4  27.9      1  \n",
       "6          46.0      74.0     32.6     21.3  27.5      0  \n",
       "7          42.0      71.0     32.6     20.7  27.3      0  \n",
       "8          28.0      69.0     35.1     21.5  28.3      0  \n",
       "9          40.0      69.0     35.9     24.0  29.8      0  \n",
       "10         45.0      79.0     34.8     26.7  28.2      1  \n",
       "11         42.0      80.0     34.7     23.1  28.0      1  "
      ]
     },
     "execution_count": 7,
     "metadata": {},
     "output_type": "execute_result"
    }
   ],
   "source": [
    "data"
   ]
  },
  {
   "cell_type": "markdown",
   "id": "912349a4",
   "metadata": {},
   "source": [
    "## Data Exploration"
   ]
  },
  {
   "cell_type": "markdown",
   "id": "905656dd",
   "metadata": {},
   "source": [
    "### Intensitas Curah Hujan Tiap Bulan"
   ]
  },
  {
   "cell_type": "code",
   "execution_count": 8,
   "id": "ed854ca1",
   "metadata": {},
   "outputs": [],
   "source": [
    "rainfalmonth = data[['Rainfall', 'Month']].groupby(['Month'], as_index=False).agg({'Rainfall':'mean'})"
   ]
  },
  {
   "cell_type": "code",
   "execution_count": 9,
   "id": "64693dd9",
   "metadata": {},
   "outputs": [
    {
     "data": {
      "text/html": [
       "<div>\n",
       "<style scoped>\n",
       "    .dataframe tbody tr th:only-of-type {\n",
       "        vertical-align: middle;\n",
       "    }\n",
       "\n",
       "    .dataframe tbody tr th {\n",
       "        vertical-align: top;\n",
       "    }\n",
       "\n",
       "    .dataframe thead th {\n",
       "        text-align: right;\n",
       "    }\n",
       "</style>\n",
       "<table border=\"1\" class=\"dataframe\">\n",
       "  <thead>\n",
       "    <tr style=\"text-align: right;\">\n",
       "      <th></th>\n",
       "      <th>Month</th>\n",
       "      <th>Rainfall</th>\n",
       "    </tr>\n",
       "  </thead>\n",
       "  <tbody>\n",
       "    <tr>\n",
       "      <th>0</th>\n",
       "      <td>Agustus</td>\n",
       "      <td>0.0</td>\n",
       "    </tr>\n",
       "    <tr>\n",
       "      <th>1</th>\n",
       "      <td>April</td>\n",
       "      <td>283.2</td>\n",
       "    </tr>\n",
       "    <tr>\n",
       "      <th>2</th>\n",
       "      <td>Desember</td>\n",
       "      <td>427.3</td>\n",
       "    </tr>\n",
       "    <tr>\n",
       "      <th>3</th>\n",
       "      <td>Februari</td>\n",
       "      <td>257.6</td>\n",
       "    </tr>\n",
       "    <tr>\n",
       "      <th>4</th>\n",
       "      <td>Januari</td>\n",
       "      <td>400.7</td>\n",
       "    </tr>\n",
       "    <tr>\n",
       "      <th>5</th>\n",
       "      <td>Juli</td>\n",
       "      <td>39.8</td>\n",
       "    </tr>\n",
       "    <tr>\n",
       "      <th>6</th>\n",
       "      <td>Juni</td>\n",
       "      <td>53.0</td>\n",
       "    </tr>\n",
       "    <tr>\n",
       "      <th>7</th>\n",
       "      <td>Maret</td>\n",
       "      <td>193.8</td>\n",
       "    </tr>\n",
       "    <tr>\n",
       "      <th>8</th>\n",
       "      <td>Mei</td>\n",
       "      <td>75.6</td>\n",
       "    </tr>\n",
       "    <tr>\n",
       "      <th>9</th>\n",
       "      <td>November</td>\n",
       "      <td>309.2</td>\n",
       "    </tr>\n",
       "    <tr>\n",
       "      <th>10</th>\n",
       "      <td>Oktober</td>\n",
       "      <td>83.3</td>\n",
       "    </tr>\n",
       "    <tr>\n",
       "      <th>11</th>\n",
       "      <td>September</td>\n",
       "      <td>0.3</td>\n",
       "    </tr>\n",
       "  </tbody>\n",
       "</table>\n",
       "</div>"
      ],
      "text/plain": [
       "        Month  Rainfall\n",
       "0     Agustus       0.0\n",
       "1       April     283.2\n",
       "2    Desember     427.3\n",
       "3    Februari     257.6\n",
       "4     Januari     400.7\n",
       "5        Juli      39.8\n",
       "6        Juni      53.0\n",
       "7       Maret     193.8\n",
       "8         Mei      75.6\n",
       "9    November     309.2\n",
       "10    Oktober      83.3\n",
       "11  September       0.3"
      ]
     },
     "execution_count": 9,
     "metadata": {},
     "output_type": "execute_result"
    }
   ],
   "source": [
    "rainfalmonth"
   ]
  },
  {
   "cell_type": "code",
   "execution_count": 10,
   "id": "5bd62edf",
   "metadata": {},
   "outputs": [
    {
     "data": {
      "image/png": "[encoded data removed]",
      "text/plain": [
       "<Figure size 1080x360 with 1 Axes>"
      ]
     },
     "metadata": {
      "needs_background": "light"
     },
     "output_type": "display_data"
    }
   ],
   "source": [
    "rainfalmonth.plot(kind='bar', x='Month', y='Rainfall', figsize=(15,5))\n",
    "\n",
    "plt.title('Intensitas Curah Hujan tiap bulan')\n",
    "plt.xlabel('Bulan')\n",
    "plt.ylabel('Intensitas Curah Hujan(mm3)')\n",
    "plt.grid(color=\"grey\")\n",
    "\n",
    "plt.show()"
   ]
  },
  {
   "cell_type": "markdown",
   "id": "09464c91",
   "metadata": {},
   "source": [
    "Berdasarkan plot diatas diketahui:\n",
    "   1. Curah hujan tertinggi terjadi pada Bulan Desember dan Januari\n",
    "   2. Curah hujan terendah terjadi pada Bulan Agustus dan September"
   ]
  },
  {
   "cell_type": "markdown",
   "id": "f73072dc",
   "metadata": {},
   "source": [
    "### Kecepatan Angin tiap Bulan"
   ]
  },
  {
   "cell_type": "code",
   "execution_count": 11,
   "id": "d9fbee2a",
   "metadata": {},
   "outputs": [],
   "source": [
    "wind = data[['WindSpeed', 'Month']].groupby(['Month'], as_index=False).agg({'WindSpeed':'mean'})"
   ]
  },
  {
   "cell_type": "code",
   "execution_count": 12,
   "id": "ad77a12f",
   "metadata": {},
   "outputs": [
    {
     "data": {
      "text/html": [
       "<div>\n",
       "<style scoped>\n",
       "    .dataframe tbody tr th:only-of-type {\n",
       "        vertical-align: middle;\n",
       "    }\n",
       "\n",
       "    .dataframe tbody tr th {\n",
       "        vertical-align: top;\n",
       "    }\n",
       "\n",
       "    .dataframe thead th {\n",
       "        text-align: right;\n",
       "    }\n",
       "</style>\n",
       "<table border=\"1\" class=\"dataframe\">\n",
       "  <thead>\n",
       "    <tr style=\"text-align: right;\">\n",
       "      <th></th>\n",
       "      <th>Month</th>\n",
       "      <th>WindSpeed</th>\n",
       "    </tr>\n",
       "  </thead>\n",
       "  <tbody>\n",
       "    <tr>\n",
       "      <th>0</th>\n",
       "      <td>Agustus</td>\n",
       "      <td>8.3</td>\n",
       "    </tr>\n",
       "    <tr>\n",
       "      <th>1</th>\n",
       "      <td>April</td>\n",
       "      <td>6.5</td>\n",
       "    </tr>\n",
       "    <tr>\n",
       "      <th>2</th>\n",
       "      <td>Desember</td>\n",
       "      <td>7.7</td>\n",
       "    </tr>\n",
       "    <tr>\n",
       "      <th>3</th>\n",
       "      <td>Februari</td>\n",
       "      <td>9.5</td>\n",
       "    </tr>\n",
       "    <tr>\n",
       "      <th>4</th>\n",
       "      <td>Januari</td>\n",
       "      <td>8.8</td>\n",
       "    </tr>\n",
       "    <tr>\n",
       "      <th>5</th>\n",
       "      <td>Juli</td>\n",
       "      <td>7.0</td>\n",
       "    </tr>\n",
       "    <tr>\n",
       "      <th>6</th>\n",
       "      <td>Juni</td>\n",
       "      <td>8.0</td>\n",
       "    </tr>\n",
       "    <tr>\n",
       "      <th>7</th>\n",
       "      <td>Maret</td>\n",
       "      <td>7.0</td>\n",
       "    </tr>\n",
       "    <tr>\n",
       "      <th>8</th>\n",
       "      <td>Mei</td>\n",
       "      <td>7.5</td>\n",
       "    </tr>\n",
       "    <tr>\n",
       "      <th>9</th>\n",
       "      <td>November</td>\n",
       "      <td>7.0</td>\n",
       "    </tr>\n",
       "    <tr>\n",
       "      <th>10</th>\n",
       "      <td>Oktober</td>\n",
       "      <td>7.7</td>\n",
       "    </tr>\n",
       "    <tr>\n",
       "      <th>11</th>\n",
       "      <td>September</td>\n",
       "      <td>8.5</td>\n",
       "    </tr>\n",
       "  </tbody>\n",
       "</table>\n",
       "</div>"
      ],
      "text/plain": [
       "        Month  WindSpeed\n",
       "0     Agustus        8.3\n",
       "1       April        6.5\n",
       "2    Desember        7.7\n",
       "3    Februari        9.5\n",
       "4     Januari        8.8\n",
       "5        Juli        7.0\n",
       "6        Juni        8.0\n",
       "7       Maret        7.0\n",
       "8         Mei        7.5\n",
       "9    November        7.0\n",
       "10    Oktober        7.7\n",
       "11  September        8.5"
      ]
     },
     "execution_count": 12,
     "metadata": {},
     "output_type": "execute_result"
    }
   ],
   "source": [
    "wind"
   ]
  },
  {
   "cell_type": "code",
   "execution_count": 13,
   "id": "054a7914",
   "metadata": {},
   "outputs": [
    {
     "data": {
      "image/png": "[encoded data removed]",
      "text/plain": [
       "<Figure size 1080x360 with 1 Axes>"
      ]
     },
     "metadata": {
      "needs_background": "light"
     },
     "output_type": "display_data"
    }
   ],
   "source": [
    "wind.plot(kind='bar', x='Month', y='WindSpeed', figsize=(15,5))\n",
    "\n",
    "plt.title('Kecepatan Angin tiap Bulan')\n",
    "plt.xlabel('Bulan')\n",
    "plt.ylabel('Kecepatan Angin(knot)')\n",
    "plt.grid(color=\"grey\")\n",
    "\n",
    "plt.show()"
   ]
  },
  {
   "cell_type": "markdown",
   "id": "2a7f41fb",
   "metadata": {},
   "source": [
    "Berdasarkan plot diatas diketahui:\n",
    "   1. Kecepatan angin paling tinggi terjadi pada bulan Februari sebesar 9.5 knot\n",
    "   2. Kecepatan angin paling rendah terjadi pada bulan April sebesar 6.5 knot"
   ]
  },
  {
   "cell_type": "markdown",
   "id": "0438a432",
   "metadata": {},
   "source": [
    "### Perbandingan Suhu Maksimal dan Minimal tiap bulan"
   ]
  },
  {
   "cell_type": "code",
   "execution_count": 14,
   "id": "813510f2",
   "metadata": {},
   "outputs": [],
   "source": [
    "Temperatur = data[['MaxTemp', 'MinTemp', 'Month']].groupby(['Month'],as_index=False).agg({'MinTemp':'mean','MaxTemp':'mean'})"
   ]
  },
  {
   "cell_type": "code",
   "execution_count": 15,
   "id": "08e6e425",
   "metadata": {},
   "outputs": [
    {
     "data": {
      "text/html": [
       "<div>\n",
       "<style scoped>\n",
       "    .dataframe tbody tr th:only-of-type {\n",
       "        vertical-align: middle;\n",
       "    }\n",
       "\n",
       "    .dataframe tbody tr th {\n",
       "        vertical-align: top;\n",
       "    }\n",
       "\n",
       "    .dataframe thead th {\n",
       "        text-align: right;\n",
       "    }\n",
       "</style>\n",
       "<table border=\"1\" class=\"dataframe\">\n",
       "  <thead>\n",
       "    <tr style=\"text-align: right;\">\n",
       "      <th></th>\n",
       "      <th>Month</th>\n",
       "      <th>MinTemp</th>\n",
       "      <th>MaxTemp</th>\n",
       "    </tr>\n",
       "  </thead>\n",
       "  <tbody>\n",
       "    <tr>\n",
       "      <th>0</th>\n",
       "      <td>Agustus</td>\n",
       "      <td>20.7</td>\n",
       "      <td>32.6</td>\n",
       "    </tr>\n",
       "    <tr>\n",
       "      <th>1</th>\n",
       "      <td>April</td>\n",
       "      <td>24.0</td>\n",
       "      <td>33.4</td>\n",
       "    </tr>\n",
       "    <tr>\n",
       "      <th>2</th>\n",
       "      <td>Desember</td>\n",
       "      <td>23.1</td>\n",
       "      <td>34.7</td>\n",
       "    </tr>\n",
       "    <tr>\n",
       "      <th>3</th>\n",
       "      <td>Februari</td>\n",
       "      <td>23.7</td>\n",
       "      <td>33.8</td>\n",
       "    </tr>\n",
       "    <tr>\n",
       "      <th>4</th>\n",
       "      <td>Januari</td>\n",
       "      <td>23.9</td>\n",
       "      <td>34.7</td>\n",
       "    </tr>\n",
       "    <tr>\n",
       "      <th>5</th>\n",
       "      <td>Juli</td>\n",
       "      <td>21.3</td>\n",
       "      <td>32.6</td>\n",
       "    </tr>\n",
       "    <tr>\n",
       "      <th>6</th>\n",
       "      <td>Juni</td>\n",
       "      <td>22.4</td>\n",
       "      <td>33.0</td>\n",
       "    </tr>\n",
       "    <tr>\n",
       "      <th>7</th>\n",
       "      <td>Maret</td>\n",
       "      <td>23.0</td>\n",
       "      <td>34.0</td>\n",
       "    </tr>\n",
       "    <tr>\n",
       "      <th>8</th>\n",
       "      <td>Mei</td>\n",
       "      <td>23.0</td>\n",
       "      <td>34.0</td>\n",
       "    </tr>\n",
       "    <tr>\n",
       "      <th>9</th>\n",
       "      <td>November</td>\n",
       "      <td>26.7</td>\n",
       "      <td>34.8</td>\n",
       "    </tr>\n",
       "    <tr>\n",
       "      <th>10</th>\n",
       "      <td>Oktober</td>\n",
       "      <td>24.0</td>\n",
       "      <td>35.9</td>\n",
       "    </tr>\n",
       "    <tr>\n",
       "      <th>11</th>\n",
       "      <td>September</td>\n",
       "      <td>21.5</td>\n",
       "      <td>35.1</td>\n",
       "    </tr>\n",
       "  </tbody>\n",
       "</table>\n",
       "</div>"
      ],
      "text/plain": [
       "        Month  MinTemp  MaxTemp\n",
       "0     Agustus     20.7     32.6\n",
       "1       April     24.0     33.4\n",
       "2    Desember     23.1     34.7\n",
       "3    Februari     23.7     33.8\n",
       "4     Januari     23.9     34.7\n",
       "5        Juli     21.3     32.6\n",
       "6        Juni     22.4     33.0\n",
       "7       Maret     23.0     34.0\n",
       "8         Mei     23.0     34.0\n",
       "9    November     26.7     34.8\n",
       "10    Oktober     24.0     35.9\n",
       "11  September     21.5     35.1"
      ]
     },
     "execution_count": 15,
     "metadata": {},
     "output_type": "execute_result"
    }
   ],
   "source": [
    "Temperatur"
   ]
  },
  {
   "cell_type": "code",
   "execution_count": 16,
   "id": "bb242424",
   "metadata": {},
   "outputs": [
    {
     "data": {
      "image/png": "[encoded data removed]",
      "text/plain": [
       "<Figure size 1080x360 with 1 Axes>"
      ]
     },
     "metadata": {
      "needs_background": "light"
     },
     "output_type": "display_data"
    }
   ],
   "source": [
    "Temperatur.plot(kind='bar',x='Month', figsize=(15,5))\n",
    "\n",
    "plt.title('Temperatur Suhu Di setiap bulan')\n",
    "plt.xlabel('Bulan')\n",
    "plt.ylabel('Suhu(C)')\n",
    "plt.grid(color=\"grey\")\n",
    "\n",
    "plt.show()"
   ]
  },
  {
   "cell_type": "markdown",
   "id": "ba34992b",
   "metadata": {},
   "source": [
    "Berdasarkan plot diatas diketahui:\n",
    "   1. Suhu Terendah terjadi pada bulan Agustus sebesar 20.7 C\n",
    "   2. Suhu Tertinggi terjadi pada bulan Oktober sebesar 35.9 C"
   ]
  },
  {
   "cell_type": "markdown",
   "id": "ec5240d6",
   "metadata": {},
   "source": [
    "### Rata-rata suhu tiap bulan"
   ]
  },
  {
   "cell_type": "code",
   "execution_count": 17,
   "id": "eb12eb8f",
   "metadata": {},
   "outputs": [],
   "source": [
    "TemperaturMean = data[['Temp', 'Month']].groupby(['Month'], as_index=False).agg({'Temp':'mean'})"
   ]
  },
  {
   "cell_type": "code",
   "execution_count": 18,
   "id": "62808188",
   "metadata": {},
   "outputs": [
    {
     "data": {
      "text/html": [
       "<div>\n",
       "<style scoped>\n",
       "    .dataframe tbody tr th:only-of-type {\n",
       "        vertical-align: middle;\n",
       "    }\n",
       "\n",
       "    .dataframe tbody tr th {\n",
       "        vertical-align: top;\n",
       "    }\n",
       "\n",
       "    .dataframe thead th {\n",
       "        text-align: right;\n",
       "    }\n",
       "</style>\n",
       "<table border=\"1\" class=\"dataframe\">\n",
       "  <thead>\n",
       "    <tr style=\"text-align: right;\">\n",
       "      <th></th>\n",
       "      <th>Month</th>\n",
       "      <th>Temp</th>\n",
       "    </tr>\n",
       "  </thead>\n",
       "  <tbody>\n",
       "    <tr>\n",
       "      <th>0</th>\n",
       "      <td>Agustus</td>\n",
       "      <td>27.3</td>\n",
       "    </tr>\n",
       "    <tr>\n",
       "      <th>1</th>\n",
       "      <td>April</td>\n",
       "      <td>28.2</td>\n",
       "    </tr>\n",
       "    <tr>\n",
       "      <th>2</th>\n",
       "      <td>Desember</td>\n",
       "      <td>28.0</td>\n",
       "    </tr>\n",
       "    <tr>\n",
       "      <th>3</th>\n",
       "      <td>Februari</td>\n",
       "      <td>27.7</td>\n",
       "    </tr>\n",
       "    <tr>\n",
       "      <th>4</th>\n",
       "      <td>Januari</td>\n",
       "      <td>27.5</td>\n",
       "    </tr>\n",
       "    <tr>\n",
       "      <th>5</th>\n",
       "      <td>Juli</td>\n",
       "      <td>27.5</td>\n",
       "    </tr>\n",
       "    <tr>\n",
       "      <th>6</th>\n",
       "      <td>Juni</td>\n",
       "      <td>27.9</td>\n",
       "    </tr>\n",
       "    <tr>\n",
       "      <th>7</th>\n",
       "      <td>Maret</td>\n",
       "      <td>27.9</td>\n",
       "    </tr>\n",
       "    <tr>\n",
       "      <th>8</th>\n",
       "      <td>Mei</td>\n",
       "      <td>28.6</td>\n",
       "    </tr>\n",
       "    <tr>\n",
       "      <th>9</th>\n",
       "      <td>November</td>\n",
       "      <td>28.2</td>\n",
       "    </tr>\n",
       "    <tr>\n",
       "      <th>10</th>\n",
       "      <td>Oktober</td>\n",
       "      <td>29.8</td>\n",
       "    </tr>\n",
       "    <tr>\n",
       "      <th>11</th>\n",
       "      <td>September</td>\n",
       "      <td>28.3</td>\n",
       "    </tr>\n",
       "  </tbody>\n",
       "</table>\n",
       "</div>"
      ],
      "text/plain": [
       "        Month  Temp\n",
       "0     Agustus  27.3\n",
       "1       April  28.2\n",
       "2    Desember  28.0\n",
       "3    Februari  27.7\n",
       "4     Januari  27.5\n",
       "5        Juli  27.5\n",
       "6        Juni  27.9\n",
       "7       Maret  27.9\n",
       "8         Mei  28.6\n",
       "9    November  28.2\n",
       "10    Oktober  29.8\n",
       "11  September  28.3"
      ]
     },
     "execution_count": 18,
     "metadata": {},
     "output_type": "execute_result"
    }
   ],
   "source": [
    "TemperaturMean"
   ]
  },
  {
   "cell_type": "code",
   "execution_count": 19,
   "id": "74d28427",
   "metadata": {},
   "outputs": [
    {
     "data": {
      "image/png": "[encoded data removed]",
      "text/plain": [
       "<Figure size 1080x360 with 1 Axes>"
      ]
     },
     "metadata": {
      "needs_background": "light"
     },
     "output_type": "display_data"
    }
   ],
   "source": [
    "TemperaturMean.plot(kind='bar',x='Month', figsize=(15,5))\n",
    "\n",
    "plt.title('Temperatur Suhu Di setiap bulan')\n",
    "plt.xlabel('Bulan')\n",
    "plt.ylabel('Suhu(C)')\n",
    "plt.grid(color=\"grey\")\n",
    "\n",
    "plt.show()"
   ]
  },
  {
   "cell_type": "markdown",
   "id": "c1f8d75b",
   "metadata": {},
   "source": [
    "Berdasarkan plot diatas diketahui bahwa sepanjang tahun 2017 rata-rata suhu berkisar dari 27 C - 30 C"
   ]
  },
  {
   "cell_type": "markdown",
   "id": "d55376db",
   "metadata": {},
   "source": [
    "## Data Preporecessing"
   ]
  },
  {
   "cell_type": "markdown",
   "id": "388caf31",
   "metadata": {},
   "source": [
    "### Cek Korelasi Data"
   ]
  },
  {
   "cell_type": "code",
   "execution_count": 20,
   "id": "f441dcae",
   "metadata": {},
   "outputs": [
    {
     "data": {
      "image/png": "[encoded data removed]",
      "text/plain": [
       "<Figure size 1080x576 with 2 Axes>"
      ]
     },
     "metadata": {
      "needs_background": "light"
     },
     "output_type": "display_data"
    }
   ],
   "source": [
    "plt.figure(figsize=(15,8))\n",
    "sns.heatmap(data.corr(), annot=True)\n",
    "plt.show()"
   ]
  },
  {
   "cell_type": "markdown",
   "id": "2e178e95",
   "metadata": {},
   "source": [
    "### Merubah Data Menjadi Numerik"
   ]
  },
  {
   "cell_type": "code",
   "execution_count": 21,
   "id": "0e99c6f4",
   "metadata": {},
   "outputs": [],
   "source": [
    "le = preprocessing.LabelEncoder()"
   ]
  },
  {
   "cell_type": "code",
   "execution_count": 22,
   "id": "17c2a197",
   "metadata": {},
   "outputs": [],
   "source": [
    "data[['Month']] = data[['Month']].apply(le.fit_transform)"
   ]
  },
  {
   "cell_type": "code",
   "execution_count": 23,
   "id": "c42e5eb1",
   "metadata": {},
   "outputs": [
    {
     "name": "stdout",
     "output_type": "stream",
     "text": [
      "    Month  DayRain  WindSpeed  Sunshine  Pressure  Rainfall  MaxHumidity  \\\n",
      "0       4     29.0        8.8      46.0    1007.4     400.7         97.0   \n",
      "1       3     24.0        9.5      51.0    1006.1     257.6         97.0   \n",
      "2       7     24.0        7.0      55.0    1007.9     193.8         98.0   \n",
      "3       1     21.0        6.5      64.0    1007.9     283.2         96.0   \n",
      "4       8     10.0        7.5      91.0    1008.8      75.6         93.0   \n",
      "5       6     16.0        8.0      75.0    1008.6      53.0         97.0   \n",
      "6       5      3.0        7.0      88.0    1011.2      39.8         94.0   \n",
      "7       0      0.0        8.3      96.0    1010.6       0.0         90.0   \n",
      "8      11      1.0        8.5      88.0    1010.4       0.3         89.0   \n",
      "9      10      3.0        7.7      49.0    1006.0      83.3         90.0   \n",
      "10      9     17.0        7.0      49.0    1006.0     309.2         99.0   \n",
      "11      2     26.0        7.7      46.0    1006.4     427.3         97.0   \n",
      "\n",
      "    MinHumidity  Humidity  MaxTemp  MinTemp  Temp  \n",
      "0          56.0      83.0     34.7     23.9  27.5  \n",
      "1          51.0      82.0     33.8     23.7  27.7  \n",
      "2          55.0      81.0     34.0     23.0  27.9  \n",
      "3          56.0      81.0     33.4     24.0  28.2  \n",
      "4          46.0      75.0     34.0     23.0  28.6  \n",
      "5          46.0      77.0     33.0     22.4  27.9  \n",
      "6          46.0      74.0     32.6     21.3  27.5  \n",
      "7          42.0      71.0     32.6     20.7  27.3  \n",
      "8          28.0      69.0     35.1     21.5  28.3  \n",
      "9          40.0      69.0     35.9     24.0  29.8  \n",
      "10         45.0      79.0     34.8     26.7  28.2  \n",
      "11         42.0      80.0     34.7     23.1  28.0  \n",
      "0     1\n",
      "1     1\n",
      "2     1\n",
      "3     1\n",
      "4     1\n",
      "5     1\n",
      "6     0\n",
      "7     0\n",
      "8     0\n",
      "9     0\n",
      "10    1\n",
      "11    1\n",
      "Name: Rainy, dtype: int64\n"
     ]
    }
   ],
   "source": [
    "x = data.drop(['Rainy'], axis=1)\n",
    "y = data['Rainy']\n",
    "\n",
    "print(x)\n",
    "print(y)"
   ]
  },
  {
   "cell_type": "markdown",
   "id": "e8502c29",
   "metadata": {},
   "source": [
    "### Membagi data menjadi data train dan test"
   ]
  },
  {
   "cell_type": "code",
   "execution_count": 24,
   "id": "df5eafca",
   "metadata": {},
   "outputs": [],
   "source": [
    "x_train, x_test, y_train, y_test = train_test_split(x, y, test_size=0.2, random_state=0)"
   ]
  },
  {
   "cell_type": "code",
   "execution_count": 25,
   "id": "7fe074e3",
   "metadata": {},
   "outputs": [],
   "source": [
    "scaler = StandardScaler()\n",
    "x_train = scaler.fit_transform(x_train)"
   ]
  },
  {
   "cell_type": "markdown",
   "id": "42f7b5c8",
   "metadata": {},
   "source": [
    "## Pendefinisian Model "
   ]
  },
  {
   "cell_type": "markdown",
   "id": "ea50a847",
   "metadata": {},
   "source": [
    "### SVM"
   ]
  },
  {
   "cell_type": "code",
   "execution_count": 26,
   "id": "48f19173",
   "metadata": {},
   "outputs": [
    {
     "data": {
      "text/html": [
       "<style>#sk-container-id-1 {color: black;background-color: white;}#sk-container-id-1 pre{padding: 0;}#sk-container-id-1 div.sk-toggleable {background-color: white;}#sk-container-id-1 label.sk-toggleable__label {cursor: pointer;display: block;width: 100%;margin-bottom: 0;padding: 0.3em;box-sizing: border-box;text-align: center;}#sk-container-id-1 label.sk-toggleable__label-arrow:before {content: \"▸\";float: left;margin-right: 0.25em;color: #696969;}#sk-container-id-1 label.sk-toggleable__label-arrow:hover:before {color: black;}#sk-container-id-1 div.sk-estimator:hover label.sk-toggleable__label-arrow:before {color: black;}#sk-container-id-1 div.sk-toggleable__content {max-height: 0;max-width: 0;overflow: hidden;text-align: left;background-color: #f0f8ff;}#sk-container-id-1 div.sk-toggleable__content pre {margin: 0.2em;color: black;border-radius: 0.25em;background-color: #f0f8ff;}#sk-container-id-1 input.sk-toggleable__control:checked~div.sk-toggleable__content {max-height: 200px;max-width: 100%;overflow: auto;}#sk-container-id-1 input.sk-toggleable__control:checked~label.sk-toggleable__label-arrow:before {content: \"▾\";}#sk-container-id-1 div.sk-estimator input.sk-toggleable__control:checked~label.sk-toggleable__label {background-color: #d4ebff;}#sk-container-id-1 div.sk-label input.sk-toggleable__control:checked~label.sk-toggleable__label {background-color: #d4ebff;}#sk-container-id-1 input.sk-hidden--visually {border: 0;clip: rect(1px 1px 1px 1px);clip: rect(1px, 1px, 1px, 1px);height: 1px;margin: -1px;overflow: hidden;padding: 0;position: absolute;width: 1px;}#sk-container-id-1 div.sk-estimator {font-family: monospace;background-color: #f0f8ff;border: 1px dotted black;border-radius: 0.25em;box-sizing: border-box;margin-bottom: 0.5em;}#sk-container-id-1 div.sk-estimator:hover {background-color: #d4ebff;}#sk-container-id-1 div.sk-parallel-item::after {content: \"\";width: 100%;border-bottom: 1px solid gray;flex-grow: 1;}#sk-container-id-1 div.sk-label:hover label.sk-toggleable__label {background-color: #d4ebff;}#sk-container-id-1 div.sk-serial::before {content: \"\";position: absolute;border-left: 1px solid gray;box-sizing: border-box;top: 0;bottom: 0;left: 50%;z-index: 0;}#sk-container-id-1 div.sk-serial {display: flex;flex-direction: column;align-items: center;background-color: white;padding-right: 0.2em;padding-left: 0.2em;position: relative;}#sk-container-id-1 div.sk-item {position: relative;z-index: 1;}#sk-container-id-1 div.sk-parallel {display: flex;align-items: stretch;justify-content: center;background-color: white;position: relative;}#sk-container-id-1 div.sk-item::before, #sk-container-id-1 div.sk-parallel-item::before {content: \"\";position: absolute;border-left: 1px solid gray;box-sizing: border-box;top: 0;bottom: 0;left: 50%;z-index: -1;}#sk-container-id-1 div.sk-parallel-item {display: flex;flex-direction: column;z-index: 1;position: relative;background-color: white;}#sk-container-id-1 div.sk-parallel-item:first-child::after {align-self: flex-end;width: 50%;}#sk-container-id-1 div.sk-parallel-item:last-child::after {align-self: flex-start;width: 50%;}#sk-container-id-1 div.sk-parallel-item:only-child::after {width: 0;}#sk-container-id-1 div.sk-dashed-wrapped {border: 1px dashed gray;margin: 0 0.4em 0.5em 0.4em;box-sizing: border-box;padding-bottom: 0.4em;background-color: white;}#sk-container-id-1 div.sk-label label {font-family: monospace;font-weight: bold;display: inline-block;line-height: 1.2em;}#sk-container-id-1 div.sk-label-container {text-align: center;}#sk-container-id-1 div.sk-container {/* jupyter's `normalize.less` sets `[hidden] { display: none; }` but bootstrap.min.css set `[hidden] { display: none !important; }` so we also need the `!important` here to be able to override the default hidden behavior on the sphinx rendered scikit-learn.org. See: https://github.com/scikit-learn/scikit-learn/issues/21755 */display: inline-block !important;position: relative;}#sk-container-id-1 div.sk-text-repr-fallback {display: none;}</style><div id=\"sk-container-id-1\" class=\"sk-top-container\"><div class=\"sk-text-repr-fallback\"><pre>SVC(kernel=&#x27;linear&#x27;)</pre><b>In a Jupyter environment, please rerun this cell to show the HTML representation or trust the notebook. <br />On GitHub, the HTML representation is unable to render, please try loading this page with nbviewer.org.</b></div><div class=\"sk-container\" hidden><div class=\"sk-item\"><div class=\"sk-estimator sk-toggleable\"><input class=\"sk-toggleable__control sk-hidden--visually\" id=\"sk-estimator-id-1\" type=\"checkbox\" checked><label for=\"sk-estimator-id-1\" class=\"sk-toggleable__label sk-toggleable__label-arrow\">SVC</label><div class=\"sk-toggleable__content\"><pre>SVC(kernel=&#x27;linear&#x27;)</pre></div></div></div></div></div>"
      ],
      "text/plain": [
       "SVC(kernel='linear')"
      ]
     },
     "execution_count": 26,
     "metadata": {},
     "output_type": "execute_result"
    }
   ],
   "source": [
    "SVM_model = SVC(kernel='linear')\n",
    "SVM_model.fit(x_train,y_train)"
   ]
  },
  {
   "cell_type": "code",
   "execution_count": 27,
   "id": "7fe725a2",
   "metadata": {},
   "outputs": [
    {
     "name": "stderr",
     "output_type": "stream",
     "text": [
      "C:\\Users\\Acer\\AppData\\Local\\Programs\\Python\\Python310\\lib\\site-packages\\sklearn\\base.py:443: UserWarning: X has feature names, but SVC was fitted without feature names\n",
      "  warnings.warn(\n"
     ]
    }
   ],
   "source": [
    "svc_pred = SVM_model.predict(x_test)"
   ]
  },
  {
   "cell_type": "code",
   "execution_count": 28,
   "id": "f86c4b73",
   "metadata": {},
   "outputs": [
    {
     "data": {
      "text/html": [
       "<div>\n",
       "<style scoped>\n",
       "    .dataframe tbody tr th:only-of-type {\n",
       "        vertical-align: middle;\n",
       "    }\n",
       "\n",
       "    .dataframe tbody tr th {\n",
       "        vertical-align: top;\n",
       "    }\n",
       "\n",
       "    .dataframe thead th {\n",
       "        text-align: right;\n",
       "    }\n",
       "</style>\n",
       "<table border=\"1\" class=\"dataframe\">\n",
       "  <thead>\n",
       "    <tr style=\"text-align: right;\">\n",
       "      <th></th>\n",
       "      <th>Feature Name</th>\n",
       "      <th>Feature Importance</th>\n",
       "    </tr>\n",
       "  </thead>\n",
       "  <tbody>\n",
       "    <tr>\n",
       "      <th>11</th>\n",
       "      <td>MaxHumidity</td>\n",
       "      <td>0.422161</td>\n",
       "    </tr>\n",
       "    <tr>\n",
       "      <th>10</th>\n",
       "      <td>DayRain</td>\n",
       "      <td>0.322897</td>\n",
       "    </tr>\n",
       "    <tr>\n",
       "      <th>9</th>\n",
       "      <td>Humidity</td>\n",
       "      <td>0.277929</td>\n",
       "    </tr>\n",
       "    <tr>\n",
       "      <th>8</th>\n",
       "      <td>Month</td>\n",
       "      <td>0.151538</td>\n",
       "    </tr>\n",
       "    <tr>\n",
       "      <th>7</th>\n",
       "      <td>MinHumidity</td>\n",
       "      <td>0.120716</td>\n",
       "    </tr>\n",
       "    <tr>\n",
       "      <th>6</th>\n",
       "      <td>MinTemp</td>\n",
       "      <td>0.075424</td>\n",
       "    </tr>\n",
       "    <tr>\n",
       "      <th>5</th>\n",
       "      <td>Rainfall</td>\n",
       "      <td>0.038745</td>\n",
       "    </tr>\n",
       "    <tr>\n",
       "      <th>4</th>\n",
       "      <td>WindSpeed</td>\n",
       "      <td>-0.022260</td>\n",
       "    </tr>\n",
       "    <tr>\n",
       "      <th>3</th>\n",
       "      <td>Pressure</td>\n",
       "      <td>-0.053635</td>\n",
       "    </tr>\n",
       "    <tr>\n",
       "      <th>2</th>\n",
       "      <td>Sunshine</td>\n",
       "      <td>-0.059264</td>\n",
       "    </tr>\n",
       "    <tr>\n",
       "      <th>1</th>\n",
       "      <td>Temp</td>\n",
       "      <td>-0.088662</td>\n",
       "    </tr>\n",
       "    <tr>\n",
       "      <th>0</th>\n",
       "      <td>MaxTemp</td>\n",
       "      <td>-0.166312</td>\n",
       "    </tr>\n",
       "  </tbody>\n",
       "</table>\n",
       "</div>"
      ],
      "text/plain": [
       "   Feature Name  Feature Importance\n",
       "11  MaxHumidity            0.422161\n",
       "10      DayRain            0.322897\n",
       "9      Humidity            0.277929\n",
       "8         Month            0.151538\n",
       "7   MinHumidity            0.120716\n",
       "6       MinTemp            0.075424\n",
       "5      Rainfall            0.038745\n",
       "4     WindSpeed           -0.022260\n",
       "3      Pressure           -0.053635\n",
       "2      Sunshine           -0.059264\n",
       "1          Temp           -0.088662\n",
       "0       MaxTemp           -0.166312"
      ]
     },
     "execution_count": 28,
     "metadata": {},
     "output_type": "execute_result"
    }
   ],
   "source": [
    "importance=SVM_model.coef_[0]\n",
    "sorted_index=np.argsort(importance)\n",
    "labels=x.columns[sorted_index]\n",
    "data_importance=pd.DataFrame({'Feature Name': labels,\n",
    "                          'Feature Importance' : importance[sorted_index]})\n",
    "data_importance=data_importance.sort_values(by=['Feature Importance'], ascending=False)\n",
    "data_importance"
   ]
  },
  {
   "cell_type": "markdown",
   "id": "262338db",
   "metadata": {},
   "source": [
    "Untuk hasil ini menerangkan bahwa untuk model SVM, data yang memiliki nilai terbaik yaitu DayRain, Humidity, MinTemp, Rainfall dan Month. Sehingga selain data yang disebutkan akan dihapus"
   ]
  },
  {
   "cell_type": "code",
   "execution_count": 29,
   "id": "1a0f8d15",
   "metadata": {},
   "outputs": [],
   "source": [
    "data_predSVC = data.drop(['MaxHumidity',\n",
    "                       'MinHumidity',\n",
    "                       'WindSpeed',\n",
    "                       'Pressure',\n",
    "                       'Sunshine',\n",
    "                       'Temp',\n",
    "                       'MaxTemp'], axis=1)"
   ]
  },
  {
   "cell_type": "code",
   "execution_count": 30,
   "id": "fe051481",
   "metadata": {},
   "outputs": [
    {
     "data": {
      "text/html": [
       "<div>\n",
       "<style scoped>\n",
       "    .dataframe tbody tr th:only-of-type {\n",
       "        vertical-align: middle;\n",
       "    }\n",
       "\n",
       "    .dataframe tbody tr th {\n",
       "        vertical-align: top;\n",
       "    }\n",
       "\n",
       "    .dataframe thead th {\n",
       "        text-align: right;\n",
       "    }\n",
       "</style>\n",
       "<table border=\"1\" class=\"dataframe\">\n",
       "  <thead>\n",
       "    <tr style=\"text-align: right;\">\n",
       "      <th></th>\n",
       "      <th>Month</th>\n",
       "      <th>DayRain</th>\n",
       "      <th>Rainfall</th>\n",
       "      <th>Humidity</th>\n",
       "      <th>MinTemp</th>\n",
       "      <th>Rainy</th>\n",
       "    </tr>\n",
       "  </thead>\n",
       "  <tbody>\n",
       "    <tr>\n",
       "      <th>0</th>\n",
       "      <td>4</td>\n",
       "      <td>29.0</td>\n",
       "      <td>400.7</td>\n",
       "      <td>83.0</td>\n",
       "      <td>23.9</td>\n",
       "      <td>1</td>\n",
       "    </tr>\n",
       "    <tr>\n",
       "      <th>1</th>\n",
       "      <td>3</td>\n",
       "      <td>24.0</td>\n",
       "      <td>257.6</td>\n",
       "      <td>82.0</td>\n",
       "      <td>23.7</td>\n",
       "      <td>1</td>\n",
       "    </tr>\n",
       "    <tr>\n",
       "      <th>2</th>\n",
       "      <td>7</td>\n",
       "      <td>24.0</td>\n",
       "      <td>193.8</td>\n",
       "      <td>81.0</td>\n",
       "      <td>23.0</td>\n",
       "      <td>1</td>\n",
       "    </tr>\n",
       "    <tr>\n",
       "      <th>3</th>\n",
       "      <td>1</td>\n",
       "      <td>21.0</td>\n",
       "      <td>283.2</td>\n",
       "      <td>81.0</td>\n",
       "      <td>24.0</td>\n",
       "      <td>1</td>\n",
       "    </tr>\n",
       "    <tr>\n",
       "      <th>4</th>\n",
       "      <td>8</td>\n",
       "      <td>10.0</td>\n",
       "      <td>75.6</td>\n",
       "      <td>75.0</td>\n",
       "      <td>23.0</td>\n",
       "      <td>1</td>\n",
       "    </tr>\n",
       "    <tr>\n",
       "      <th>5</th>\n",
       "      <td>6</td>\n",
       "      <td>16.0</td>\n",
       "      <td>53.0</td>\n",
       "      <td>77.0</td>\n",
       "      <td>22.4</td>\n",
       "      <td>1</td>\n",
       "    </tr>\n",
       "    <tr>\n",
       "      <th>6</th>\n",
       "      <td>5</td>\n",
       "      <td>3.0</td>\n",
       "      <td>39.8</td>\n",
       "      <td>74.0</td>\n",
       "      <td>21.3</td>\n",
       "      <td>0</td>\n",
       "    </tr>\n",
       "    <tr>\n",
       "      <th>7</th>\n",
       "      <td>0</td>\n",
       "      <td>0.0</td>\n",
       "      <td>0.0</td>\n",
       "      <td>71.0</td>\n",
       "      <td>20.7</td>\n",
       "      <td>0</td>\n",
       "    </tr>\n",
       "    <tr>\n",
       "      <th>8</th>\n",
       "      <td>11</td>\n",
       "      <td>1.0</td>\n",
       "      <td>0.3</td>\n",
       "      <td>69.0</td>\n",
       "      <td>21.5</td>\n",
       "      <td>0</td>\n",
       "    </tr>\n",
       "    <tr>\n",
       "      <th>9</th>\n",
       "      <td>10</td>\n",
       "      <td>3.0</td>\n",
       "      <td>83.3</td>\n",
       "      <td>69.0</td>\n",
       "      <td>24.0</td>\n",
       "      <td>0</td>\n",
       "    </tr>\n",
       "    <tr>\n",
       "      <th>10</th>\n",
       "      <td>9</td>\n",
       "      <td>17.0</td>\n",
       "      <td>309.2</td>\n",
       "      <td>79.0</td>\n",
       "      <td>26.7</td>\n",
       "      <td>1</td>\n",
       "    </tr>\n",
       "    <tr>\n",
       "      <th>11</th>\n",
       "      <td>2</td>\n",
       "      <td>26.0</td>\n",
       "      <td>427.3</td>\n",
       "      <td>80.0</td>\n",
       "      <td>23.1</td>\n",
       "      <td>1</td>\n",
       "    </tr>\n",
       "  </tbody>\n",
       "</table>\n",
       "</div>"
      ],
      "text/plain": [
       "    Month  DayRain  Rainfall  Humidity  MinTemp  Rainy\n",
       "0       4     29.0     400.7      83.0     23.9      1\n",
       "1       3     24.0     257.6      82.0     23.7      1\n",
       "2       7     24.0     193.8      81.0     23.0      1\n",
       "3       1     21.0     283.2      81.0     24.0      1\n",
       "4       8     10.0      75.6      75.0     23.0      1\n",
       "5       6     16.0      53.0      77.0     22.4      1\n",
       "6       5      3.0      39.8      74.0     21.3      0\n",
       "7       0      0.0       0.0      71.0     20.7      0\n",
       "8      11      1.0       0.3      69.0     21.5      0\n",
       "9      10      3.0      83.3      69.0     24.0      0\n",
       "10      9     17.0     309.2      79.0     26.7      1\n",
       "11      2     26.0     427.3      80.0     23.1      1"
      ]
     },
     "execution_count": 30,
     "metadata": {},
     "output_type": "execute_result"
    }
   ],
   "source": [
    "data_predSVC"
   ]
  },
  {
   "cell_type": "code",
   "execution_count": 31,
   "id": "da53fd16",
   "metadata": {},
   "outputs": [],
   "source": [
    "x_svc = data_predSVC.drop(columns='Rainy')\n",
    "y_svc = data_predSVC['Rainy']\n",
    "\n",
    "x_train_SVC, x_test_SVC, y_train_SVC, y_test_SVC = train_test_split(x_svc, y_svc, test_size=0.2, random_state=0)"
   ]
  },
  {
   "cell_type": "code",
   "execution_count": 32,
   "id": "3ad87d4f",
   "metadata": {},
   "outputs": [],
   "source": [
    "scaler = StandardScaler()\n",
    "x_test_SVC = scaler.fit_transform(x_test_SVC)\n",
    "x_train_SVC = scaler.fit_transform(x_train_SVC)"
   ]
  },
  {
   "cell_type": "code",
   "execution_count": 33,
   "id": "0ab60dae",
   "metadata": {},
   "outputs": [
    {
     "data": {
      "text/html": [
       "<style>#sk-container-id-2 {color: black;background-color: white;}#sk-container-id-2 pre{padding: 0;}#sk-container-id-2 div.sk-toggleable {background-color: white;}#sk-container-id-2 label.sk-toggleable__label {cursor: pointer;display: block;width: 100%;margin-bottom: 0;padding: 0.3em;box-sizing: border-box;text-align: center;}#sk-container-id-2 label.sk-toggleable__label-arrow:before {content: \"▸\";float: left;margin-right: 0.25em;color: #696969;}#sk-container-id-2 label.sk-toggleable__label-arrow:hover:before {color: black;}#sk-container-id-2 div.sk-estimator:hover label.sk-toggleable__label-arrow:before {color: black;}#sk-container-id-2 div.sk-toggleable__content {max-height: 0;max-width: 0;overflow: hidden;text-align: left;background-color: #f0f8ff;}#sk-container-id-2 div.sk-toggleable__content pre {margin: 0.2em;color: black;border-radius: 0.25em;background-color: #f0f8ff;}#sk-container-id-2 input.sk-toggleable__control:checked~div.sk-toggleable__content {max-height: 200px;max-width: 100%;overflow: auto;}#sk-container-id-2 input.sk-toggleable__control:checked~label.sk-toggleable__label-arrow:before {content: \"▾\";}#sk-container-id-2 div.sk-estimator input.sk-toggleable__control:checked~label.sk-toggleable__label {background-color: #d4ebff;}#sk-container-id-2 div.sk-label input.sk-toggleable__control:checked~label.sk-toggleable__label {background-color: #d4ebff;}#sk-container-id-2 input.sk-hidden--visually {border: 0;clip: rect(1px 1px 1px 1px);clip: rect(1px, 1px, 1px, 1px);height: 1px;margin: -1px;overflow: hidden;padding: 0;position: absolute;width: 1px;}#sk-container-id-2 div.sk-estimator {font-family: monospace;background-color: #f0f8ff;border: 1px dotted black;border-radius: 0.25em;box-sizing: border-box;margin-bottom: 0.5em;}#sk-container-id-2 div.sk-estimator:hover {background-color: #d4ebff;}#sk-container-id-2 div.sk-parallel-item::after {content: \"\";width: 100%;border-bottom: 1px solid gray;flex-grow: 1;}#sk-container-id-2 div.sk-label:hover label.sk-toggleable__label {background-color: #d4ebff;}#sk-container-id-2 div.sk-serial::before {content: \"\";position: absolute;border-left: 1px solid gray;box-sizing: border-box;top: 0;bottom: 0;left: 50%;z-index: 0;}#sk-container-id-2 div.sk-serial {display: flex;flex-direction: column;align-items: center;background-color: white;padding-right: 0.2em;padding-left: 0.2em;position: relative;}#sk-container-id-2 div.sk-item {position: relative;z-index: 1;}#sk-container-id-2 div.sk-parallel {display: flex;align-items: stretch;justify-content: center;background-color: white;position: relative;}#sk-container-id-2 div.sk-item::before, #sk-container-id-2 div.sk-parallel-item::before {content: \"\";position: absolute;border-left: 1px solid gray;box-sizing: border-box;top: 0;bottom: 0;left: 50%;z-index: -1;}#sk-container-id-2 div.sk-parallel-item {display: flex;flex-direction: column;z-index: 1;position: relative;background-color: white;}#sk-container-id-2 div.sk-parallel-item:first-child::after {align-self: flex-end;width: 50%;}#sk-container-id-2 div.sk-parallel-item:last-child::after {align-self: flex-start;width: 50%;}#sk-container-id-2 div.sk-parallel-item:only-child::after {width: 0;}#sk-container-id-2 div.sk-dashed-wrapped {border: 1px dashed gray;margin: 0 0.4em 0.5em 0.4em;box-sizing: border-box;padding-bottom: 0.4em;background-color: white;}#sk-container-id-2 div.sk-label label {font-family: monospace;font-weight: bold;display: inline-block;line-height: 1.2em;}#sk-container-id-2 div.sk-label-container {text-align: center;}#sk-container-id-2 div.sk-container {/* jupyter's `normalize.less` sets `[hidden] { display: none; }` but bootstrap.min.css set `[hidden] { display: none !important; }` so we also need the `!important` here to be able to override the default hidden behavior on the sphinx rendered scikit-learn.org. See: https://github.com/scikit-learn/scikit-learn/issues/21755 */display: inline-block !important;position: relative;}#sk-container-id-2 div.sk-text-repr-fallback {display: none;}</style><div id=\"sk-container-id-2\" class=\"sk-top-container\"><div class=\"sk-text-repr-fallback\"><pre>SVC(kernel=&#x27;linear&#x27;)</pre><b>In a Jupyter environment, please rerun this cell to show the HTML representation or trust the notebook. <br />On GitHub, the HTML representation is unable to render, please try loading this page with nbviewer.org.</b></div><div class=\"sk-container\" hidden><div class=\"sk-item\"><div class=\"sk-estimator sk-toggleable\"><input class=\"sk-toggleable__control sk-hidden--visually\" id=\"sk-estimator-id-2\" type=\"checkbox\" checked><label for=\"sk-estimator-id-2\" class=\"sk-toggleable__label sk-toggleable__label-arrow\">SVC</label><div class=\"sk-toggleable__content\"><pre>SVC(kernel=&#x27;linear&#x27;)</pre></div></div></div></div></div>"
      ],
      "text/plain": [
       "SVC(kernel='linear')"
      ]
     },
     "execution_count": 33,
     "metadata": {},
     "output_type": "execute_result"
    }
   ],
   "source": [
    "SVM_model = SVC(kernel='linear')\n",
    "SVM_model.fit(x_train_SVC, y_train_SVC)"
   ]
  },
  {
   "cell_type": "code",
   "execution_count": 34,
   "id": "294cef5e",
   "metadata": {},
   "outputs": [
    {
     "name": "stdout",
     "output_type": "stream",
     "text": [
      "Train score: 1.0\n",
      "Test score: 1.0\n"
     ]
    }
   ],
   "source": [
    "print('Train score:', SVM_model.score(x_train_SVC, y_train_SVC))\n",
    "print('Test score:', SVM_model.score(x_test_SVC, y_test_SVC))"
   ]
  },
  {
   "cell_type": "code",
   "execution_count": 35,
   "id": "f510fc99",
   "metadata": {},
   "outputs": [],
   "source": [
    "svc_pred = SVM_model.predict(x_test_SVC)"
   ]
  },
  {
   "cell_type": "code",
   "execution_count": null,
   "id": "b20dfdc4",
   "metadata": {},
   "outputs": [],
   "source": []
  },
  {
   "cell_type": "markdown",
   "id": "cf06f93a",
   "metadata": {},
   "source": [
    "## Evaluasi Model"
   ]
  },
  {
   "cell_type": "code",
   "execution_count": 36,
   "id": "7b001e52",
   "metadata": {},
   "outputs": [
    {
     "name": "stdout",
     "output_type": "stream",
     "text": [
      "              precision    recall  f1-score   support\n",
      "\n",
      "           0       1.00      1.00      1.00         1\n",
      "           1       1.00      1.00      1.00         2\n",
      "\n",
      "    accuracy                           1.00         3\n",
      "   macro avg       1.00      1.00      1.00         3\n",
      "weighted avg       1.00      1.00      1.00         3\n",
      "\n",
      "Accuracy Score: 1.0\n"
     ]
    }
   ],
   "source": [
    "print(classification_report(y_test_SVC, svc_pred))\n",
    "print('Accuracy Score:', accuracy_score(y_test_SVC, svc_pred))"
   ]
  },
  {
   "cell_type": "markdown",
   "id": "67ae1a88",
   "metadata": {},
   "source": [
    "## Model Inference"
   ]
  },
  {
   "cell_type": "code",
   "execution_count": 37,
   "id": "053fbbcf",
   "metadata": {},
   "outputs": [
    {
     "name": "stdout",
     "output_type": "stream",
     "text": [
      "Bulan saat ini:4\n",
      "Hari saat ini:23\n",
      "Curah Hujan bulan ini75\n",
      "Kelembapan udara bulan ini81\n",
      "Suhu bulan ini23\n",
      "Apakah hari ini hujan?(yes/no)yes\n"
     ]
    }
   ],
   "source": [
    "Bulan = float(input('Bulan saat ini:'))\n",
    "Hari = float(input('Hari saat ini:'))\n",
    "CurahHujan = float(input('Curah Hujan bulan ini'))\n",
    "Kelembapan = float(input('Kelembapan udara bulan ini'))\n",
    "Suhu = float(input('Suhu bulan ini'))\n",
    "Hujan = input('Apakah hari ini hujan?(yes/no)')\n",
    "input =[Bulan, Hari, CurahHujan, Kelembapan, Suhu]\n",
    "if Hujan == 'yes':\n",
    "    input.append(1)\n",
    "elif Hujan == 'no':\n",
    "    input.append(0)"
   ]
  },
  {
   "cell_type": "code",
   "execution_count": null,
   "id": "4095d0e9",
   "metadata": {},
   "outputs": [],
   "source": []
  }
 ],
 "metadata": {
  "kernelspec": {
   "display_name": "Python 3 (ipykernel)",
   "language": "python",
   "name": "python3"
  },
  "language_info": {
   "codemirror_mode": {
    "name": "ipython",
    "version": 3
   },
   "file_extension": ".py",
   "mimetype": "text/x-python",
   "name": "python",
   "nbconvert_exporter": "python",
   "pygments_lexer": "ipython3",
   "version": "3.10.5"
  },
  "toc": {
   "base_numbering": 1,
   "nav_menu": {},
   "number_sections": true,
   "sideBar": true,
   "skip_h1_title": false,
   "title_cell": "Table of Contents",
   "title_sidebar": "Contents",
   "toc_cell": false,
   "toc_position": {},
   "toc_section_display": true,
   "toc_window_display": false
  }
 },
 "nbformat": 4,
 "nbformat_minor": 5
}
