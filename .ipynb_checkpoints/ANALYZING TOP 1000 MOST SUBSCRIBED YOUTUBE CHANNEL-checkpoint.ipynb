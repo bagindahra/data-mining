{
 "cells": [
  {
   "cell_type": "markdown",
   "id": "65181f5b",
   "metadata": {},
   "source": [
    "## Import Library"
   ]
  },
  {
   "cell_type": "code",
   "execution_count": 1,
   "id": "07fd5fb6",
   "metadata": {},
   "outputs": [],
   "source": [
    "import pandas as pd\n",
    "import numpy as np\n",
    "import matplotlib.pyplot as plt\n",
    "import seaborn as sns\n",
    "from sklearn.linear_model import LinearRegression\n",
    "from sklearn.model_selection import train_test_split\n",
    "from sklearn.preprocessing import StandardScaler\n",
    "from sklearn.metrics import classification_report, confusion_matrix\n",
    "from sklearn.metrics import accuracy_score\n",
    "from sklearn.metrics import r2_score\n",
    "from sklearn import preprocessing\n",
    "import pickle"
   ]
  },
  {
   "cell_type": "markdown",
   "id": "89a6e1f0",
   "metadata": {},
   "source": [
    "## Import dataset"
   ]
  },
  {
   "cell_type": "code",
   "execution_count": 2,
   "id": "d12576e9",
   "metadata": {},
   "outputs": [
    {
     "data": {
      "text/html": [
       "<div>\n",
       "<style scoped>\n",
       "    .dataframe tbody tr th:only-of-type {\n",
       "        vertical-align: middle;\n",
       "    }\n",
       "\n",
       "    .dataframe tbody tr th {\n",
       "        vertical-align: top;\n",
       "    }\n",
       "\n",
       "    .dataframe thead th {\n",
       "        text-align: right;\n",
       "    }\n",
       "</style>\n",
       "<table border=\"1\" class=\"dataframe\">\n",
       "  <thead>\n",
       "    <tr style=\"text-align: right;\">\n",
       "      <th></th>\n",
       "      <th>Rank</th>\n",
       "      <th>Youtube Channel</th>\n",
       "      <th>Subscribers</th>\n",
       "      <th>Video Views</th>\n",
       "      <th>Video Count</th>\n",
       "      <th>Category</th>\n",
       "      <th>Started</th>\n",
       "    </tr>\n",
       "  </thead>\n",
       "  <tbody>\n",
       "    <tr>\n",
       "      <th>0</th>\n",
       "      <td>1</td>\n",
       "      <td>T-Series</td>\n",
       "      <td>234,000,000</td>\n",
       "      <td>212,900,271,553</td>\n",
       "      <td>18,515</td>\n",
       "      <td>Music</td>\n",
       "      <td>2006</td>\n",
       "    </tr>\n",
       "    <tr>\n",
       "      <th>1</th>\n",
       "      <td>2</td>\n",
       "      <td>YouTube Movies</td>\n",
       "      <td>161,000,000</td>\n",
       "      <td>0</td>\n",
       "      <td>0</td>\n",
       "      <td>Film &amp; Animation</td>\n",
       "      <td>2015</td>\n",
       "    </tr>\n",
       "    <tr>\n",
       "      <th>2</th>\n",
       "      <td>3</td>\n",
       "      <td>Cocomelon - Nursery Rhymes</td>\n",
       "      <td>152,000,000</td>\n",
       "      <td>149,084,178,448</td>\n",
       "      <td>846</td>\n",
       "      <td>Education</td>\n",
       "      <td>2006</td>\n",
       "    </tr>\n",
       "    <tr>\n",
       "      <th>3</th>\n",
       "      <td>4</td>\n",
       "      <td>SET India</td>\n",
       "      <td>150,000,000</td>\n",
       "      <td>137,828,094,104</td>\n",
       "      <td>103,200</td>\n",
       "      <td>Shows</td>\n",
       "      <td>2006</td>\n",
       "    </tr>\n",
       "    <tr>\n",
       "      <th>4</th>\n",
       "      <td>5</td>\n",
       "      <td>MrBeast</td>\n",
       "      <td>128,000,000</td>\n",
       "      <td>21,549,128,785</td>\n",
       "      <td>733</td>\n",
       "      <td>Entertainment</td>\n",
       "      <td>2012</td>\n",
       "    </tr>\n",
       "    <tr>\n",
       "      <th>...</th>\n",
       "      <td>...</td>\n",
       "      <td>...</td>\n",
       "      <td>...</td>\n",
       "      <td>...</td>\n",
       "      <td>...</td>\n",
       "      <td>...</td>\n",
       "      <td>...</td>\n",
       "    </tr>\n",
       "    <tr>\n",
       "      <th>995</th>\n",
       "      <td>996</td>\n",
       "      <td>XO TEAM</td>\n",
       "      <td>11,500,000</td>\n",
       "      <td>11,471,384,709</td>\n",
       "      <td>2,679</td>\n",
       "      <td>People &amp; Blogs</td>\n",
       "      <td>2021</td>\n",
       "    </tr>\n",
       "    <tr>\n",
       "      <th>996</th>\n",
       "      <td>997</td>\n",
       "      <td>Nirahua Music World</td>\n",
       "      <td>11,500,000</td>\n",
       "      <td>5,997,717,755</td>\n",
       "      <td>788</td>\n",
       "      <td>Music</td>\n",
       "      <td>2014</td>\n",
       "    </tr>\n",
       "    <tr>\n",
       "      <th>997</th>\n",
       "      <td>998</td>\n",
       "      <td>YtCrash</td>\n",
       "      <td>11,400,000</td>\n",
       "      <td>3,825,084</td>\n",
       "      <td>1</td>\n",
       "      <td>Education</td>\n",
       "      <td>2015</td>\n",
       "    </tr>\n",
       "    <tr>\n",
       "      <th>998</th>\n",
       "      <td>999</td>\n",
       "      <td>Painzeiro</td>\n",
       "      <td>11,400,000</td>\n",
       "      <td>2,143,444,281</td>\n",
       "      <td>946</td>\n",
       "      <td>People &amp; Blogs</td>\n",
       "      <td>2015</td>\n",
       "    </tr>\n",
       "    <tr>\n",
       "      <th>999</th>\n",
       "      <td>1000</td>\n",
       "      <td>Oum Walid</td>\n",
       "      <td>11,400,000</td>\n",
       "      <td>2,480,064,722</td>\n",
       "      <td>1,598</td>\n",
       "      <td>People &amp; Blogs</td>\n",
       "      <td>2015</td>\n",
       "    </tr>\n",
       "  </tbody>\n",
       "</table>\n",
       "<p>1000 rows × 7 columns</p>\n",
       "</div>"
      ],
      "text/plain": [
       "     Rank             Youtube Channel  Subscribers      Video Views  \\\n",
       "0       1                    T-Series  234,000,000  212,900,271,553   \n",
       "1       2              YouTube Movies  161,000,000                0   \n",
       "2       3  Cocomelon - Nursery Rhymes  152,000,000  149,084,178,448   \n",
       "3       4                   SET India  150,000,000  137,828,094,104   \n",
       "4       5                     MrBeast  128,000,000   21,549,128,785   \n",
       "..    ...                         ...          ...              ...   \n",
       "995   996                     XO TEAM   11,500,000   11,471,384,709   \n",
       "996   997         Nirahua Music World   11,500,000    5,997,717,755   \n",
       "997   998                     YtCrash   11,400,000        3,825,084   \n",
       "998   999                   Painzeiro   11,400,000    2,143,444,281   \n",
       "999  1000                   Oum Walid   11,400,000    2,480,064,722   \n",
       "\n",
       "    Video Count          Category  Started  \n",
       "0        18,515             Music     2006  \n",
       "1             0  Film & Animation     2015  \n",
       "2           846         Education     2006  \n",
       "3       103,200             Shows     2006  \n",
       "4           733     Entertainment     2012  \n",
       "..          ...               ...      ...  \n",
       "995       2,679    People & Blogs     2021  \n",
       "996         788             Music     2014  \n",
       "997           1         Education     2015  \n",
       "998         946    People & Blogs     2015  \n",
       "999       1,598    People & Blogs     2015  \n",
       "\n",
       "[1000 rows x 7 columns]"
      ]
     },
     "execution_count": 2,
     "metadata": {},
     "output_type": "execute_result"
    }
   ],
   "source": [
    "data = pd.read_csv('topSubscribed.csv')\n",
    "data"
   ]
  },
  {
   "cell_type": "markdown",
   "id": "112cdf22",
   "metadata": {},
   "source": [
    "Variable Description\n",
    "\n",
    "Top 1000 Most Subscribed Youtube Channels data set consists of 6 variables.\n",
    "1. Youtube Channel : Name of Youtube Channel\n",
    "2. Subscribers : Total Subscriber\n",
    "3. Video Views : Total views\n",
    "4. Video Count : Total videos\n",
    "5. Category : Category of channel\n",
    "6. Started : Started the Channel"
   ]
  },
  {
   "cell_type": "markdown",
   "id": "0e869ffe",
   "metadata": {},
   "source": [
    "### Cek Data"
   ]
  },
  {
   "cell_type": "code",
   "execution_count": 3,
   "id": "79ef9d7d",
   "metadata": {},
   "outputs": [
    {
     "name": "stdout",
     "output_type": "stream",
     "text": [
      "<class 'pandas.core.frame.DataFrame'>\n",
      "RangeIndex: 1000 entries, 0 to 999\n",
      "Data columns (total 7 columns):\n",
      " #   Column           Non-Null Count  Dtype \n",
      "---  ------           --------------  ----- \n",
      " 0   Rank             1000 non-null   int64 \n",
      " 1   Youtube Channel  1000 non-null   object\n",
      " 2   Subscribers      1000 non-null   object\n",
      " 3   Video Views      1000 non-null   object\n",
      " 4   Video Count      1000 non-null   object\n",
      " 5   Category         1000 non-null   object\n",
      " 6   Started          1000 non-null   int64 \n",
      "dtypes: int64(2), object(5)\n",
      "memory usage: 54.8+ KB\n"
     ]
    }
   ],
   "source": [
    "data.info()"
   ]
  },
  {
   "cell_type": "code",
   "execution_count": 4,
   "id": "31bc574f",
   "metadata": {},
   "outputs": [
    {
     "data": {
      "text/plain": [
       "(1000, 7)"
      ]
     },
     "execution_count": 4,
     "metadata": {},
     "output_type": "execute_result"
    }
   ],
   "source": [
    "data.shape"
   ]
  },
  {
   "cell_type": "code",
   "execution_count": 5,
   "id": "1d7547f8",
   "metadata": {},
   "outputs": [
    {
     "data": {
      "text/plain": [
       "Rank               0\n",
       "Youtube Channel    0\n",
       "Subscribers        0\n",
       "Video Views        0\n",
       "Video Count        0\n",
       "Category           0\n",
       "Started            0\n",
       "dtype: int64"
      ]
     },
     "execution_count": 5,
     "metadata": {},
     "output_type": "execute_result"
    }
   ],
   "source": [
    "data.isnull().sum()"
   ]
  },
  {
   "cell_type": "markdown",
   "id": "761ff0b6",
   "metadata": {},
   "source": [
    "## Data Cleaning"
   ]
  },
  {
   "cell_type": "markdown",
   "id": "c64deaeb",
   "metadata": {},
   "source": [
    "### Merubah nama kolom"
   ]
  },
  {
   "cell_type": "code",
   "execution_count": 6,
   "id": "6d9a3fbd",
   "metadata": {},
   "outputs": [],
   "source": [
    "data.rename(columns={'Youtube Channel':'name_youtube',\n",
    "                     'Video Views':'Views',\n",
    "                     'Video Count':'Count',\n",
    "                     'Category':'Channel'}, inplace=True)"
   ]
  },
  {
   "cell_type": "code",
   "execution_count": 7,
   "id": "c7f0a83c",
   "metadata": {},
   "outputs": [
    {
     "data": {
      "text/html": [
       "<div>\n",
       "<style scoped>\n",
       "    .dataframe tbody tr th:only-of-type {\n",
       "        vertical-align: middle;\n",
       "    }\n",
       "\n",
       "    .dataframe tbody tr th {\n",
       "        vertical-align: top;\n",
       "    }\n",
       "\n",
       "    .dataframe thead th {\n",
       "        text-align: right;\n",
       "    }\n",
       "</style>\n",
       "<table border=\"1\" class=\"dataframe\">\n",
       "  <thead>\n",
       "    <tr style=\"text-align: right;\">\n",
       "      <th></th>\n",
       "      <th>Rank</th>\n",
       "      <th>name_youtube</th>\n",
       "      <th>Subscribers</th>\n",
       "      <th>Views</th>\n",
       "      <th>Count</th>\n",
       "      <th>Channel</th>\n",
       "      <th>Started</th>\n",
       "    </tr>\n",
       "  </thead>\n",
       "  <tbody>\n",
       "    <tr>\n",
       "      <th>0</th>\n",
       "      <td>1</td>\n",
       "      <td>T-Series</td>\n",
       "      <td>234000000</td>\n",
       "      <td>212900271553</td>\n",
       "      <td>18515</td>\n",
       "      <td>Music</td>\n",
       "      <td>2006</td>\n",
       "    </tr>\n",
       "    <tr>\n",
       "      <th>1</th>\n",
       "      <td>2</td>\n",
       "      <td>YouTube Movies</td>\n",
       "      <td>161000000</td>\n",
       "      <td>0</td>\n",
       "      <td>0</td>\n",
       "      <td>Film &amp; Animation</td>\n",
       "      <td>2015</td>\n",
       "    </tr>\n",
       "    <tr>\n",
       "      <th>2</th>\n",
       "      <td>3</td>\n",
       "      <td>Cocomelon - Nursery Rhymes</td>\n",
       "      <td>152000000</td>\n",
       "      <td>149084178448</td>\n",
       "      <td>846</td>\n",
       "      <td>Education</td>\n",
       "      <td>2006</td>\n",
       "    </tr>\n",
       "    <tr>\n",
       "      <th>3</th>\n",
       "      <td>4</td>\n",
       "      <td>SET India</td>\n",
       "      <td>150000000</td>\n",
       "      <td>137828094104</td>\n",
       "      <td>103200</td>\n",
       "      <td>Shows</td>\n",
       "      <td>2006</td>\n",
       "    </tr>\n",
       "    <tr>\n",
       "      <th>4</th>\n",
       "      <td>5</td>\n",
       "      <td>MrBeast</td>\n",
       "      <td>128000000</td>\n",
       "      <td>21549128785</td>\n",
       "      <td>733</td>\n",
       "      <td>Entertainment</td>\n",
       "      <td>2012</td>\n",
       "    </tr>\n",
       "  </tbody>\n",
       "</table>\n",
       "</div>"
      ],
      "text/plain": [
       "   Rank                name_youtube  Subscribers         Views   Count  \\\n",
       "0     1                    T-Series    234000000  212900271553   18515   \n",
       "1     2              YouTube Movies    161000000             0       0   \n",
       "2     3  Cocomelon - Nursery Rhymes    152000000  149084178448     846   \n",
       "3     4                   SET India    150000000  137828094104  103200   \n",
       "4     5                     MrBeast    128000000   21549128785     733   \n",
       "\n",
       "            Channel  Started  \n",
       "0             Music     2006  \n",
       "1  Film & Animation     2015  \n",
       "2         Education     2006  \n",
       "3             Shows     2006  \n",
       "4     Entertainment     2012  "
      ]
     },
     "execution_count": 7,
     "metadata": {},
     "output_type": "execute_result"
    }
   ],
   "source": [
    "data['Subscribers'] = data['Subscribers'].apply(str).str.replace(\",\",\"\").astype(int)\n",
    "data['Views'] = data['Views'].apply(str).str.replace(\",\",\"\").astype(np.int64)\n",
    "data['Count'] = data['Count'].str.replace(\",\",\"\").astype(int)\n",
    "\n",
    "data.head()"
   ]
  },
  {
   "cell_type": "code",
   "execution_count": 8,
   "id": "b067e51f",
   "metadata": {},
   "outputs": [
    {
     "name": "stderr",
     "output_type": "stream",
     "text": [
      "C:\\Users\\Acer\\AppData\\Local\\Temp\\ipykernel_10264\\3028495936.py:1: FutureWarning: The default value of regex will change from True to False in a future version.\n",
      "  data['Channel']=data['Channel'].str.replace('https://us.youtubers.me/global/all/top-1000-most_subscribed-youtube-channels', 'Other')\n"
     ]
    }
   ],
   "source": [
    "data['Channel']=data['Channel'].str.replace('https://us.youtubers.me/global/all/top-1000-most_subscribed-youtube-channels', 'Other')"
   ]
  },
  {
   "cell_type": "code",
   "execution_count": 9,
   "id": "e1436e19",
   "metadata": {},
   "outputs": [],
   "source": [
    "data.drop(['Rank'], axis=1, inplace=True)"
   ]
  },
  {
   "cell_type": "code",
   "execution_count": 10,
   "id": "d2326938",
   "metadata": {},
   "outputs": [
    {
     "data": {
      "text/html": [
       "<div>\n",
       "<style scoped>\n",
       "    .dataframe tbody tr th:only-of-type {\n",
       "        vertical-align: middle;\n",
       "    }\n",
       "\n",
       "    .dataframe tbody tr th {\n",
       "        vertical-align: top;\n",
       "    }\n",
       "\n",
       "    .dataframe thead th {\n",
       "        text-align: right;\n",
       "    }\n",
       "</style>\n",
       "<table border=\"1\" class=\"dataframe\">\n",
       "  <thead>\n",
       "    <tr style=\"text-align: right;\">\n",
       "      <th></th>\n",
       "      <th>name_youtube</th>\n",
       "      <th>Subscribers</th>\n",
       "      <th>Views</th>\n",
       "      <th>Count</th>\n",
       "      <th>Channel</th>\n",
       "      <th>Started</th>\n",
       "    </tr>\n",
       "  </thead>\n",
       "  <tbody>\n",
       "    <tr>\n",
       "      <th>0</th>\n",
       "      <td>T-Series</td>\n",
       "      <td>234000000</td>\n",
       "      <td>212900271553</td>\n",
       "      <td>18515</td>\n",
       "      <td>Music</td>\n",
       "      <td>2006</td>\n",
       "    </tr>\n",
       "    <tr>\n",
       "      <th>1</th>\n",
       "      <td>YouTube Movies</td>\n",
       "      <td>161000000</td>\n",
       "      <td>0</td>\n",
       "      <td>0</td>\n",
       "      <td>Film &amp; Animation</td>\n",
       "      <td>2015</td>\n",
       "    </tr>\n",
       "    <tr>\n",
       "      <th>2</th>\n",
       "      <td>Cocomelon - Nursery Rhymes</td>\n",
       "      <td>152000000</td>\n",
       "      <td>149084178448</td>\n",
       "      <td>846</td>\n",
       "      <td>Education</td>\n",
       "      <td>2006</td>\n",
       "    </tr>\n",
       "    <tr>\n",
       "      <th>3</th>\n",
       "      <td>SET India</td>\n",
       "      <td>150000000</td>\n",
       "      <td>137828094104</td>\n",
       "      <td>103200</td>\n",
       "      <td>Shows</td>\n",
       "      <td>2006</td>\n",
       "    </tr>\n",
       "    <tr>\n",
       "      <th>4</th>\n",
       "      <td>MrBeast</td>\n",
       "      <td>128000000</td>\n",
       "      <td>21549128785</td>\n",
       "      <td>733</td>\n",
       "      <td>Entertainment</td>\n",
       "      <td>2012</td>\n",
       "    </tr>\n",
       "    <tr>\n",
       "      <th>...</th>\n",
       "      <td>...</td>\n",
       "      <td>...</td>\n",
       "      <td>...</td>\n",
       "      <td>...</td>\n",
       "      <td>...</td>\n",
       "      <td>...</td>\n",
       "    </tr>\n",
       "    <tr>\n",
       "      <th>995</th>\n",
       "      <td>XO TEAM</td>\n",
       "      <td>11500000</td>\n",
       "      <td>11471384709</td>\n",
       "      <td>2679</td>\n",
       "      <td>People &amp; Blogs</td>\n",
       "      <td>2021</td>\n",
       "    </tr>\n",
       "    <tr>\n",
       "      <th>996</th>\n",
       "      <td>Nirahua Music World</td>\n",
       "      <td>11500000</td>\n",
       "      <td>5997717755</td>\n",
       "      <td>788</td>\n",
       "      <td>Music</td>\n",
       "      <td>2014</td>\n",
       "    </tr>\n",
       "    <tr>\n",
       "      <th>997</th>\n",
       "      <td>YtCrash</td>\n",
       "      <td>11400000</td>\n",
       "      <td>3825084</td>\n",
       "      <td>1</td>\n",
       "      <td>Education</td>\n",
       "      <td>2015</td>\n",
       "    </tr>\n",
       "    <tr>\n",
       "      <th>998</th>\n",
       "      <td>Painzeiro</td>\n",
       "      <td>11400000</td>\n",
       "      <td>2143444281</td>\n",
       "      <td>946</td>\n",
       "      <td>People &amp; Blogs</td>\n",
       "      <td>2015</td>\n",
       "    </tr>\n",
       "    <tr>\n",
       "      <th>999</th>\n",
       "      <td>Oum Walid</td>\n",
       "      <td>11400000</td>\n",
       "      <td>2480064722</td>\n",
       "      <td>1598</td>\n",
       "      <td>People &amp; Blogs</td>\n",
       "      <td>2015</td>\n",
       "    </tr>\n",
       "  </tbody>\n",
       "</table>\n",
       "<p>1000 rows × 6 columns</p>\n",
       "</div>"
      ],
      "text/plain": [
       "                   name_youtube  Subscribers         Views   Count  \\\n",
       "0                      T-Series    234000000  212900271553   18515   \n",
       "1                YouTube Movies    161000000             0       0   \n",
       "2    Cocomelon - Nursery Rhymes    152000000  149084178448     846   \n",
       "3                     SET India    150000000  137828094104  103200   \n",
       "4                       MrBeast    128000000   21549128785     733   \n",
       "..                          ...          ...           ...     ...   \n",
       "995                     XO TEAM     11500000   11471384709    2679   \n",
       "996         Nirahua Music World     11500000    5997717755     788   \n",
       "997                     YtCrash     11400000       3825084       1   \n",
       "998                   Painzeiro     11400000    2143444281     946   \n",
       "999                   Oum Walid     11400000    2480064722    1598   \n",
       "\n",
       "              Channel  Started  \n",
       "0               Music     2006  \n",
       "1    Film & Animation     2015  \n",
       "2           Education     2006  \n",
       "3               Shows     2006  \n",
       "4       Entertainment     2012  \n",
       "..                ...      ...  \n",
       "995    People & Blogs     2021  \n",
       "996             Music     2014  \n",
       "997         Education     2015  \n",
       "998    People & Blogs     2015  \n",
       "999    People & Blogs     2015  \n",
       "\n",
       "[1000 rows x 6 columns]"
      ]
     },
     "execution_count": 10,
     "metadata": {},
     "output_type": "execute_result"
    }
   ],
   "source": [
    "data"
   ]
  },
  {
   "cell_type": "markdown",
   "id": "64e22704",
   "metadata": {},
   "source": [
    "## Eksplorasi Data"
   ]
  },
  {
   "cell_type": "markdown",
   "id": "fe5a8978",
   "metadata": {},
   "source": [
    "### Perbandingan Kategori Channel"
   ]
  },
  {
   "cell_type": "code",
   "execution_count": 11,
   "id": "abfa1598",
   "metadata": {},
   "outputs": [
    {
     "data": {
      "text/plain": [
       "Entertainment            238\n",
       "Music                    217\n",
       "People & Blogs           132\n",
       "Gaming                    94\n",
       "Comedy                    68\n",
       "Film & Animation          50\n",
       "Education                 45\n",
       "Howto & Style             43\n",
       "Other                     30\n",
       "News & Politics           27\n",
       "Science & Technology      18\n",
       "Shows                     14\n",
       "Sports                    10\n",
       "Pets & Animals             6\n",
       "Trailers                   2\n",
       "Nonprofits & Activism      2\n",
       "Movies                     2\n",
       "Autos & Vehicles           1\n",
       "Travel & Events            1\n",
       "Name: Channel, dtype: int64"
      ]
     },
     "execution_count": 11,
     "metadata": {},
     "output_type": "execute_result"
    }
   ],
   "source": [
    "data.Channel.value_counts()"
   ]
  },
  {
   "cell_type": "code",
   "execution_count": 12,
   "id": "15a66c67",
   "metadata": {},
   "outputs": [
    {
     "data": {
      "image/png": "[encoded data removed]",
      "text/plain": [
       "<Figure size 720x432 with 1 Axes>"
      ]
     },
     "metadata": {
      "needs_background": "light"
     },
     "output_type": "display_data"
    }
   ],
   "source": [
    "category = data['Channel'].value_counts().plot.bar(figsize=(10,6),\n",
    "                                                      fontsize=14)\n",
    "\n",
    "category.set_title('Perbandingan kategori Channel', fontsize=20)\n",
    "plt.xlabel('Nama Channel', fontsize=20)\n",
    "plt.ylabel('Total Channel', fontsize=10)\n",
    "\n",
    "plt.show()"
   ]
  },
  {
   "cell_type": "markdown",
   "id": "67427183",
   "metadata": {},
   "source": [
    "Berdasarkan data diatas, diketahui Channel paling banyak adalah Channel Entertaiment"
   ]
  },
  {
   "cell_type": "markdown",
   "id": "98ef8dae",
   "metadata": {},
   "source": [
    "### Perbandingan awal dimulainya Channel"
   ]
  },
  {
   "cell_type": "code",
   "execution_count": 16,
   "id": "4a0fb248",
   "metadata": {},
   "outputs": [
    {
     "data": {
      "text/html": [
       "<div>\n",
       "<style scoped>\n",
       "    .dataframe tbody tr th:only-of-type {\n",
       "        vertical-align: middle;\n",
       "    }\n",
       "\n",
       "    .dataframe tbody tr th {\n",
       "        vertical-align: top;\n",
       "    }\n",
       "\n",
       "    .dataframe thead th {\n",
       "        text-align: right;\n",
       "    }\n",
       "</style>\n",
       "<table border=\"1\" class=\"dataframe\">\n",
       "  <thead>\n",
       "    <tr style=\"text-align: right;\">\n",
       "      <th></th>\n",
       "      <th>Channel</th>\n",
       "      <th>Started</th>\n",
       "    </tr>\n",
       "  </thead>\n",
       "  <tbody>\n",
       "    <tr>\n",
       "      <th>0</th>\n",
       "      <td>Music</td>\n",
       "      <td>2006</td>\n",
       "    </tr>\n",
       "    <tr>\n",
       "      <th>1</th>\n",
       "      <td>Film &amp; Animation</td>\n",
       "      <td>2015</td>\n",
       "    </tr>\n",
       "    <tr>\n",
       "      <th>2</th>\n",
       "      <td>Education</td>\n",
       "      <td>2006</td>\n",
       "    </tr>\n",
       "    <tr>\n",
       "      <th>3</th>\n",
       "      <td>Shows</td>\n",
       "      <td>2006</td>\n",
       "    </tr>\n",
       "    <tr>\n",
       "      <th>4</th>\n",
       "      <td>Entertainment</td>\n",
       "      <td>2012</td>\n",
       "    </tr>\n",
       "    <tr>\n",
       "      <th>...</th>\n",
       "      <td>...</td>\n",
       "      <td>...</td>\n",
       "    </tr>\n",
       "    <tr>\n",
       "      <th>995</th>\n",
       "      <td>People &amp; Blogs</td>\n",
       "      <td>2021</td>\n",
       "    </tr>\n",
       "    <tr>\n",
       "      <th>996</th>\n",
       "      <td>Music</td>\n",
       "      <td>2014</td>\n",
       "    </tr>\n",
       "    <tr>\n",
       "      <th>997</th>\n",
       "      <td>Education</td>\n",
       "      <td>2015</td>\n",
       "    </tr>\n",
       "    <tr>\n",
       "      <th>998</th>\n",
       "      <td>People &amp; Blogs</td>\n",
       "      <td>2015</td>\n",
       "    </tr>\n",
       "    <tr>\n",
       "      <th>999</th>\n",
       "      <td>People &amp; Blogs</td>\n",
       "      <td>2015</td>\n",
       "    </tr>\n",
       "  </tbody>\n",
       "</table>\n",
       "<p>1000 rows × 2 columns</p>\n",
       "</div>"
      ],
      "text/plain": [
       "              Channel  Started\n",
       "0               Music     2006\n",
       "1    Film & Animation     2015\n",
       "2           Education     2006\n",
       "3               Shows     2006\n",
       "4       Entertainment     2012\n",
       "..                ...      ...\n",
       "995    People & Blogs     2021\n",
       "996             Music     2014\n",
       "997         Education     2015\n",
       "998    People & Blogs     2015\n",
       "999    People & Blogs     2015\n",
       "\n",
       "[1000 rows x 2 columns]"
      ]
     },
     "execution_count": 16,
     "metadata": {},
     "output_type": "execute_result"
    }
   ],
   "source": [
    "yt_started =data[['Channel','Started']]\n",
    "yt_started"
   ]
  },
  {
   "cell_type": "code",
   "execution_count": 17,
   "id": "89d6bb21",
   "metadata": {},
   "outputs": [
    {
     "data": {
      "text/plain": [
       "2014    120\n",
       "2015     95\n",
       "2013     88\n",
       "2011     87\n",
       "2012     81\n",
       "2016     76\n",
       "2006     69\n",
       "2017     62\n",
       "2009     59\n",
       "2018     50\n",
       "2008     45\n",
       "2007     45\n",
       "2010     45\n",
       "2019     30\n",
       "2005     21\n",
       "2020     15\n",
       "2021     11\n",
       "1970      1\n",
       "Name: Started, dtype: int64"
      ]
     },
     "execution_count": 17,
     "metadata": {},
     "output_type": "execute_result"
    }
   ],
   "source": [
    "yt_started.Started.value_counts()"
   ]
  },
  {
   "cell_type": "code",
   "execution_count": 18,
   "id": "01026899",
   "metadata": {},
   "outputs": [
    {
     "data": {
      "image/png": "[encoded data removed]",
      "text/plain": [
       "<Figure size 720x432 with 1 Axes>"
      ]
     },
     "metadata": {
      "needs_background": "light"
     },
     "output_type": "display_data"
    }
   ],
   "source": [
    "yt_started = data['Started'].value_counts().plot.bar(figsize=(10,6),\n",
    "                                                      fontsize=14)\n",
    "\n",
    "category.set_title('Perbandingan awal dimulainya Channel', fontsize=20)\n",
    "plt.xlabel('Tahun Dimulainya Channel', fontsize=20)\n",
    "plt.ylabel('Total Channel', fontsize=10)\n",
    "\n",
    "plt.show()"
   ]
  },
  {
   "cell_type": "markdown",
   "id": "84e66068",
   "metadata": {},
   "source": [
    "Berdasarkan data diatas, diketahui pada tahun 2014 menjadi tahun terbanyak dibuatnya channel youtube yakni sebanyak 120 channel dibuat"
   ]
  },
  {
   "cell_type": "markdown",
   "id": "77e886ee",
   "metadata": {},
   "source": [
    "### Rata-rata video ditonton"
   ]
  },
  {
   "cell_type": "code",
   "execution_count": 19,
   "id": "5bbef56c",
   "metadata": {},
   "outputs": [
    {
     "data": {
      "text/html": [
       "<div>\n",
       "<style scoped>\n",
       "    .dataframe tbody tr th:only-of-type {\n",
       "        vertical-align: middle;\n",
       "    }\n",
       "\n",
       "    .dataframe tbody tr th {\n",
       "        vertical-align: top;\n",
       "    }\n",
       "\n",
       "    .dataframe thead th {\n",
       "        text-align: right;\n",
       "    }\n",
       "</style>\n",
       "<table border=\"1\" class=\"dataframe\">\n",
       "  <thead>\n",
       "    <tr style=\"text-align: right;\">\n",
       "      <th></th>\n",
       "      <th>mean</th>\n",
       "    </tr>\n",
       "    <tr>\n",
       "      <th>Channel</th>\n",
       "      <th></th>\n",
       "    </tr>\n",
       "  </thead>\n",
       "  <tbody>\n",
       "    <tr>\n",
       "      <th>Autos &amp; Vehicles</th>\n",
       "      <td>7.666148e+09</td>\n",
       "    </tr>\n",
       "    <tr>\n",
       "      <th>Comedy</th>\n",
       "      <td>6.244004e+09</td>\n",
       "    </tr>\n",
       "    <tr>\n",
       "      <th>Education</th>\n",
       "      <td>1.418033e+10</td>\n",
       "    </tr>\n",
       "    <tr>\n",
       "      <th>Entertainment</th>\n",
       "      <td>9.323448e+09</td>\n",
       "    </tr>\n",
       "    <tr>\n",
       "      <th>Film &amp; Animation</th>\n",
       "      <td>1.036087e+10</td>\n",
       "    </tr>\n",
       "    <tr>\n",
       "      <th>Gaming</th>\n",
       "      <td>7.142277e+09</td>\n",
       "    </tr>\n",
       "    <tr>\n",
       "      <th>Howto &amp; Style</th>\n",
       "      <td>4.540776e+09</td>\n",
       "    </tr>\n",
       "    <tr>\n",
       "      <th>Movies</th>\n",
       "      <td>7.103285e+09</td>\n",
       "    </tr>\n",
       "    <tr>\n",
       "      <th>Music</th>\n",
       "      <td>1.409645e+10</td>\n",
       "    </tr>\n",
       "    <tr>\n",
       "      <th>News &amp; Politics</th>\n",
       "      <td>9.359919e+09</td>\n",
       "    </tr>\n",
       "    <tr>\n",
       "      <th>Nonprofits &amp; Activism</th>\n",
       "      <td>4.846880e+09</td>\n",
       "    </tr>\n",
       "    <tr>\n",
       "      <th>Other</th>\n",
       "      <td>5.994360e+09</td>\n",
       "    </tr>\n",
       "    <tr>\n",
       "      <th>People &amp; Blogs</th>\n",
       "      <td>8.394943e+09</td>\n",
       "    </tr>\n",
       "    <tr>\n",
       "      <th>Pets &amp; Animals</th>\n",
       "      <td>7.991630e+09</td>\n",
       "    </tr>\n",
       "    <tr>\n",
       "      <th>Science &amp; Technology</th>\n",
       "      <td>3.666427e+09</td>\n",
       "    </tr>\n",
       "    <tr>\n",
       "      <th>Shows</th>\n",
       "      <td>2.999205e+10</td>\n",
       "    </tr>\n",
       "    <tr>\n",
       "      <th>Sports</th>\n",
       "      <td>1.283169e+10</td>\n",
       "    </tr>\n",
       "    <tr>\n",
       "      <th>Trailers</th>\n",
       "      <td>1.613509e+10</td>\n",
       "    </tr>\n",
       "    <tr>\n",
       "      <th>Travel &amp; Events</th>\n",
       "      <td>2.955451e+09</td>\n",
       "    </tr>\n",
       "  </tbody>\n",
       "</table>\n",
       "</div>"
      ],
      "text/plain": [
       "                               mean\n",
       "Channel                            \n",
       "Autos & Vehicles       7.666148e+09\n",
       "Comedy                 6.244004e+09\n",
       "Education              1.418033e+10\n",
       "Entertainment          9.323448e+09\n",
       "Film & Animation       1.036087e+10\n",
       "Gaming                 7.142277e+09\n",
       "Howto & Style          4.540776e+09\n",
       "Movies                 7.103285e+09\n",
       "Music                  1.409645e+10\n",
       "News & Politics        9.359919e+09\n",
       "Nonprofits & Activism  4.846880e+09\n",
       "Other                  5.994360e+09\n",
       "People & Blogs         8.394943e+09\n",
       "Pets & Animals         7.991630e+09\n",
       "Science & Technology   3.666427e+09\n",
       "Shows                  2.999205e+10\n",
       "Sports                 1.283169e+10\n",
       "Trailers               1.613509e+10\n",
       "Travel & Events        2.955451e+09"
      ]
     },
     "execution_count": 19,
     "metadata": {},
     "output_type": "execute_result"
    }
   ],
   "source": [
    "mean_views = data.groupby(by=['Channel']).Views.agg(['mean'])\n",
    "mean_views"
   ]
  },
  {
   "cell_type": "code",
   "execution_count": 20,
   "id": "2c3d6042",
   "metadata": {},
   "outputs": [
    {
     "data": {
      "text/plain": [
       "Text(0.5, 0, 'Rata-rata ditonton')"
      ]
     },
     "execution_count": 20,
     "metadata": {},
     "output_type": "execute_result"
    },
    {
     "data": {
      "image/png": "[encoded data removed]",
      "text/plain": [
       "<Figure size 432x288 with 1 Axes>"
      ]
     },
     "metadata": {
      "needs_background": "light"
     },
     "output_type": "display_data"
    }
   ],
   "source": [
    "mean_views.plot(kind='barh')\n",
    "\n",
    "plt.title('Persebaran rata-rata Channel ditonton')\n",
    "plt.ylabel('Channel')\n",
    "plt.xlabel('Rata-rata ditonton')"
   ]
  },
  {
   "cell_type": "markdown",
   "id": "a674e869",
   "metadata": {},
   "source": [
    "### Corelation Matrixs"
   ]
  },
  {
   "cell_type": "code",
   "execution_count": 21,
   "id": "8cd54dce",
   "metadata": {},
   "outputs": [
    {
     "data": {
      "image/png": "[encoded data removed]",
      "text/plain": [
       "<Figure size 1080x576 with 2 Axes>"
      ]
     },
     "metadata": {
      "needs_background": "light"
     },
     "output_type": "display_data"
    }
   ],
   "source": [
    "plt.figure(figsize=(15,8))\n",
    "sns.heatmap(data.corr(), annot=True)\n",
    "plt.show()"
   ]
  },
  {
   "cell_type": "markdown",
   "id": "d52a20d2",
   "metadata": {},
   "source": [
    "Berdasarkan matriks korelasi diatas, diketahui Views dan Subscribers sangat mempengaruhi Top 1000 Channel Youtube"
   ]
  },
  {
   "cell_type": "markdown",
   "id": "1acaa499",
   "metadata": {},
   "source": [
    "## Data Preprocessing"
   ]
  },
  {
   "cell_type": "code",
   "execution_count": 22,
   "id": "7fccaacd",
   "metadata": {},
   "outputs": [
    {
     "data": {
      "text/html": [
       "<div>\n",
       "<style scoped>\n",
       "    .dataframe tbody tr th:only-of-type {\n",
       "        vertical-align: middle;\n",
       "    }\n",
       "\n",
       "    .dataframe tbody tr th {\n",
       "        vertical-align: top;\n",
       "    }\n",
       "\n",
       "    .dataframe thead th {\n",
       "        text-align: right;\n",
       "    }\n",
       "</style>\n",
       "<table border=\"1\" class=\"dataframe\">\n",
       "  <thead>\n",
       "    <tr style=\"text-align: right;\">\n",
       "      <th></th>\n",
       "      <th>name_youtube</th>\n",
       "      <th>Subscribers</th>\n",
       "      <th>Views</th>\n",
       "      <th>Count</th>\n",
       "      <th>Channel</th>\n",
       "      <th>Started</th>\n",
       "    </tr>\n",
       "  </thead>\n",
       "  <tbody>\n",
       "    <tr>\n",
       "      <th>0</th>\n",
       "      <td>T-Series</td>\n",
       "      <td>234000000</td>\n",
       "      <td>212900271553</td>\n",
       "      <td>18515</td>\n",
       "      <td>Music</td>\n",
       "      <td>2006</td>\n",
       "    </tr>\n",
       "    <tr>\n",
       "      <th>1</th>\n",
       "      <td>YouTube Movies</td>\n",
       "      <td>161000000</td>\n",
       "      <td>0</td>\n",
       "      <td>0</td>\n",
       "      <td>Film &amp; Animation</td>\n",
       "      <td>2015</td>\n",
       "    </tr>\n",
       "    <tr>\n",
       "      <th>2</th>\n",
       "      <td>Cocomelon - Nursery Rhymes</td>\n",
       "      <td>152000000</td>\n",
       "      <td>149084178448</td>\n",
       "      <td>846</td>\n",
       "      <td>Education</td>\n",
       "      <td>2006</td>\n",
       "    </tr>\n",
       "    <tr>\n",
       "      <th>3</th>\n",
       "      <td>SET India</td>\n",
       "      <td>150000000</td>\n",
       "      <td>137828094104</td>\n",
       "      <td>103200</td>\n",
       "      <td>Shows</td>\n",
       "      <td>2006</td>\n",
       "    </tr>\n",
       "    <tr>\n",
       "      <th>4</th>\n",
       "      <td>MrBeast</td>\n",
       "      <td>128000000</td>\n",
       "      <td>21549128785</td>\n",
       "      <td>733</td>\n",
       "      <td>Entertainment</td>\n",
       "      <td>2012</td>\n",
       "    </tr>\n",
       "    <tr>\n",
       "      <th>...</th>\n",
       "      <td>...</td>\n",
       "      <td>...</td>\n",
       "      <td>...</td>\n",
       "      <td>...</td>\n",
       "      <td>...</td>\n",
       "      <td>...</td>\n",
       "    </tr>\n",
       "    <tr>\n",
       "      <th>995</th>\n",
       "      <td>XO TEAM</td>\n",
       "      <td>11500000</td>\n",
       "      <td>11471384709</td>\n",
       "      <td>2679</td>\n",
       "      <td>People &amp; Blogs</td>\n",
       "      <td>2021</td>\n",
       "    </tr>\n",
       "    <tr>\n",
       "      <th>996</th>\n",
       "      <td>Nirahua Music World</td>\n",
       "      <td>11500000</td>\n",
       "      <td>5997717755</td>\n",
       "      <td>788</td>\n",
       "      <td>Music</td>\n",
       "      <td>2014</td>\n",
       "    </tr>\n",
       "    <tr>\n",
       "      <th>997</th>\n",
       "      <td>YtCrash</td>\n",
       "      <td>11400000</td>\n",
       "      <td>3825084</td>\n",
       "      <td>1</td>\n",
       "      <td>Education</td>\n",
       "      <td>2015</td>\n",
       "    </tr>\n",
       "    <tr>\n",
       "      <th>998</th>\n",
       "      <td>Painzeiro</td>\n",
       "      <td>11400000</td>\n",
       "      <td>2143444281</td>\n",
       "      <td>946</td>\n",
       "      <td>People &amp; Blogs</td>\n",
       "      <td>2015</td>\n",
       "    </tr>\n",
       "    <tr>\n",
       "      <th>999</th>\n",
       "      <td>Oum Walid</td>\n",
       "      <td>11400000</td>\n",
       "      <td>2480064722</td>\n",
       "      <td>1598</td>\n",
       "      <td>People &amp; Blogs</td>\n",
       "      <td>2015</td>\n",
       "    </tr>\n",
       "  </tbody>\n",
       "</table>\n",
       "<p>1000 rows × 6 columns</p>\n",
       "</div>"
      ],
      "text/plain": [
       "                   name_youtube  Subscribers         Views   Count  \\\n",
       "0                      T-Series    234000000  212900271553   18515   \n",
       "1                YouTube Movies    161000000             0       0   \n",
       "2    Cocomelon - Nursery Rhymes    152000000  149084178448     846   \n",
       "3                     SET India    150000000  137828094104  103200   \n",
       "4                       MrBeast    128000000   21549128785     733   \n",
       "..                          ...          ...           ...     ...   \n",
       "995                     XO TEAM     11500000   11471384709    2679   \n",
       "996         Nirahua Music World     11500000    5997717755     788   \n",
       "997                     YtCrash     11400000       3825084       1   \n",
       "998                   Painzeiro     11400000    2143444281     946   \n",
       "999                   Oum Walid     11400000    2480064722    1598   \n",
       "\n",
       "              Channel  Started  \n",
       "0               Music     2006  \n",
       "1    Film & Animation     2015  \n",
       "2           Education     2006  \n",
       "3               Shows     2006  \n",
       "4       Entertainment     2012  \n",
       "..                ...      ...  \n",
       "995    People & Blogs     2021  \n",
       "996             Music     2014  \n",
       "997         Education     2015  \n",
       "998    People & Blogs     2015  \n",
       "999    People & Blogs     2015  \n",
       "\n",
       "[1000 rows x 6 columns]"
      ]
     },
     "execution_count": 22,
     "metadata": {},
     "output_type": "execute_result"
    }
   ],
   "source": [
    "data"
   ]
  },
  {
   "cell_type": "markdown",
   "id": "5695cf04",
   "metadata": {},
   "source": [
    "### Merubah data menjadi numerik"
   ]
  },
  {
   "cell_type": "code",
   "execution_count": 23,
   "id": "e5adfbc5",
   "metadata": {},
   "outputs": [],
   "source": [
    "le = preprocessing.LabelEncoder()"
   ]
  },
  {
   "cell_type": "code",
   "execution_count": 24,
   "id": "2e016ffb",
   "metadata": {},
   "outputs": [],
   "source": [
    "data[['name_youtube', 'Channel']] = data[['name_youtube', 'Channel']].apply(le.fit_transform)"
   ]
  },
  {
   "cell_type": "code",
   "execution_count": 25,
   "id": "286b9346",
   "metadata": {},
   "outputs": [
    {
     "name": "stdout",
     "output_type": "stream",
     "text": [
      "     name_youtube         Views   Count  Channel  Started\n",
      "0             745  212900271553   18515        8     2006\n",
      "1             897             0       0        4     2015\n",
      "2             154  149084178448     846        2     2006\n",
      "3             679  137828094104  103200       15     2006\n",
      "4             547   21549128785     733        3     2012\n",
      "..            ...           ...     ...      ...      ...\n",
      "995           887   11471384709    2679       12     2021\n",
      "996           589    5997717755     788        8     2014\n",
      "997           899       3825084       1        2     2015\n",
      "998           609    2143444281     946       12     2015\n",
      "999           601    2480064722    1598       12     2015\n",
      "\n",
      "[1000 rows x 5 columns]\n",
      "0      234000000\n",
      "1      161000000\n",
      "2      152000000\n",
      "3      150000000\n",
      "4      128000000\n",
      "         ...    \n",
      "995     11500000\n",
      "996     11500000\n",
      "997     11400000\n",
      "998     11400000\n",
      "999     11400000\n",
      "Name: Subscribers, Length: 1000, dtype: int32\n"
     ]
    }
   ],
   "source": [
    "x = data.drop(['Subscribers'], axis=1)\n",
    "y = data['Subscribers']\n",
    "\n",
    "print(x)\n",
    "print(y)"
   ]
  },
  {
   "cell_type": "markdown",
   "id": "cdb59b3d",
   "metadata": {},
   "source": [
    "### Membagi data train dan test"
   ]
  },
  {
   "cell_type": "code",
   "execution_count": 26,
   "id": "8eec1818",
   "metadata": {},
   "outputs": [],
   "source": [
    "x_train, x_test, y_train, y_test = train_test_split(x, y, test_size=0.2, random_state=0)"
   ]
  },
  {
   "cell_type": "markdown",
   "id": "efeef637",
   "metadata": {},
   "source": [
    "## Pendifinisian Model"
   ]
  },
  {
   "cell_type": "code",
   "execution_count": 27,
   "id": "cf6c21e9",
   "metadata": {},
   "outputs": [],
   "source": [
    "model = LinearRegression()\n",
    "model =model.fit(x_train, y_train)\n",
    "model_pred = model.predict(x_test)"
   ]
  },
  {
   "cell_type": "code",
   "execution_count": 28,
   "id": "3fb12414",
   "metadata": {},
   "outputs": [
    {
     "data": {
      "text/plain": [
       "array([18483272.00844377, 12583574.97241303, 26340291.22772008,\n",
       "       22915828.99812886, 17561592.7511521 , 12648490.02063254,\n",
       "       27895469.39271444, 12714689.80322328, 24079271.06578887,\n",
       "       18573051.89087096, 14442096.94685262, 18051911.48191836,\n",
       "       21767875.88595706, 17735836.46060753, 13440129.07555547,\n",
       "       34018778.20046929, 16290626.5819653 , 26105283.40288854,\n",
       "       32974481.49318704, 54795621.98937148, 25434181.11573082,\n",
       "       18325036.78397411, 19959491.59207162, 18792468.05609146,\n",
       "       18958538.38833353, 13992663.31889749, 25870286.69429857,\n",
       "       31015305.14979923, 15654456.52246353, 11291923.20271921,\n",
       "       10581749.15598795, 18314099.30994651, 16062571.82376361,\n",
       "       13447007.7506285 , 17844849.6093398 , 16628967.86367446,\n",
       "       17649822.12581167, 18666736.33334723, 13448076.23959205,\n",
       "       41166853.48104113, 20727067.96563724, 17654144.49134731,\n",
       "       15459201.92447674, 17042111.51575184, 21158426.21883515,\n",
       "       16585237.7315869 , 10787324.84774593, 25256339.51774025,\n",
       "       23440683.40742192, 26748278.13972694, 23387318.85663539,\n",
       "       17748122.16966075, 18606977.91698831, 12259272.36414418,\n",
       "       13578712.45310915, 16508542.26934621, 13649115.94892326,\n",
       "       19664664.84842339, 18495403.75774673, 20148409.32063192,\n",
       "       25922041.31647304, 13674539.67545414, 26805658.92197704,\n",
       "       21497125.8744629 , 26708807.70396495, 36150213.12523627,\n",
       "       27189386.82902744, 15009679.06951901, 17488270.35138378,\n",
       "       15118347.65297562, 24906181.52776995, 29194623.10080537,\n",
       "       24348570.89734298, 15467661.77706257, 18549455.79060739,\n",
       "       14577612.19013974, 34223976.73171151, 18023648.98065922,\n",
       "       20665470.56455657, 20576150.85983258, 18803109.36766011,\n",
       "       12188036.31207865, 15685886.86230311, 16106147.65294567,\n",
       "       18539571.67505121, 16608830.64802057, 24875115.87822923,\n",
       "       22505608.10659963, 12582598.83952555, 12763731.90879092,\n",
       "       21648388.09202549, 18759331.77204692, 14593253.69310617,\n",
       "       23858689.15190986, 17983303.66590816, 15821673.71911818,\n",
       "       27202113.78072238, 21890095.46669501, 18331903.9938727 ,\n",
       "       19795196.58185822, 14375202.54094011, 14884259.00524414,\n",
       "       45724631.5091022 , 18589487.10701978, 23849529.37724978,\n",
       "       12628897.36044547, 14591733.29105923, 11872815.82713604,\n",
       "       12378281.83370543, 25275267.19373757, 34027340.5483638 ,\n",
       "       15861547.66138101, 17515672.4407191 , 17892804.82701883,\n",
       "       18328220.74261227, 17775608.81688988, 14350078.60093343,\n",
       "       16475918.47986716, 19881739.79842523, 17055438.80685616,\n",
       "       13348642.54589537, 17190210.64530721, 24796331.73337972,\n",
       "       20080850.65913829, 30396221.94990578, 15847940.66663232,\n",
       "       20011645.8939878 , 16995500.75537017, 14055511.17178738,\n",
       "       18963536.87962714, 16241235.03047439, 19903419.55595666,\n",
       "       14794191.21483234, 11747249.85140273, 16138510.22397351,\n",
       "       20043802.46940529, 21817682.98598194, 97762681.537043  ,\n",
       "       18336430.93381593, 15359405.30042964, 13933792.20028818,\n",
       "       15617701.21120039, 24117298.94808266, 25926285.8548719 ,\n",
       "       18475371.16001746, 19328201.38759384, 19300102.64089504,\n",
       "       15905981.82293811, 15490286.58770016, 25952523.14742041,\n",
       "       14841771.75779796, 42502550.73279777, 20272080.14716363,\n",
       "       25254921.98417568, 13923283.49253738, 17774057.13529858,\n",
       "       17674552.58877975, 21442518.28295094, 12881383.78023493,\n",
       "       19584784.8524003 , 18792139.70405123, 20714790.6814377 ,\n",
       "       15711430.44221011, 15319063.35087296, 19039982.31824884,\n",
       "       19110711.48533323, 19292717.26880878, 13260294.20830777,\n",
       "       25183676.77025011, 18715326.54054058, 21830195.83251607,\n",
       "       13760870.36153999, 25451471.89532208, 16445677.26055804,\n",
       "       20552123.41679198, 16819102.61684883, 23008888.45541689,\n",
       "       16286638.40045306, 15857859.13537815, 33283831.16215739,\n",
       "       16916535.70678845, 14114884.71504539, 14401333.71960908,\n",
       "       22929258.29763162, 16750943.09514138, 16878489.77370217,\n",
       "       19989181.76468343, 16239677.76036432, 13162963.91609806,\n",
       "       29129506.37197328, 21949006.26370052, 14191696.44669104,\n",
       "       28095343.63043597, 11971774.93081993, 13719393.1900126 ,\n",
       "       26327130.76653951, 13846326.93824157, 35358659.03805143,\n",
       "       23010578.27092966, 24096083.89461091])"
      ]
     },
     "execution_count": 28,
     "metadata": {},
     "output_type": "execute_result"
    }
   ],
   "source": [
    "model_pred"
   ]
  },
  {
   "cell_type": "code",
   "execution_count": 29,
   "id": "1bf06f8c",
   "metadata": {},
   "outputs": [
    {
     "data": {
      "text/plain": [
       "233514948.6347277"
      ]
     },
     "execution_count": 29,
     "metadata": {},
     "output_type": "execute_result"
    }
   ],
   "source": [
    "model.intercept_"
   ]
  },
  {
   "cell_type": "code",
   "execution_count": 30,
   "id": "29fe1f9b",
   "metadata": {},
   "outputs": [
    {
     "data": {
      "text/plain": [
       "array([-9.15960723e+02,  9.86578424e-04, -3.98681658e+01,  2.10960152e+04,\n",
       "       -1.09918508e+05])"
      ]
     },
     "execution_count": 30,
     "metadata": {},
     "output_type": "execute_result"
    }
   ],
   "source": [
    "model.coef_"
   ]
  },
  {
   "cell_type": "code",
   "execution_count": 31,
   "id": "88443e2e",
   "metadata": {},
   "outputs": [
    {
     "name": "stdout",
     "output_type": "stream",
     "text": [
      "Score : 0.16665497615897562\n"
     ]
    }
   ],
   "source": [
    "print('Score :',r2_score(y_test, model_pred))"
   ]
  },
  {
   "cell_type": "markdown",
   "id": "b2174b04",
   "metadata": {},
   "source": [
    "## Model Inference"
   ]
  },
  {
   "cell_type": "code",
   "execution_count": 32,
   "id": "8499664a",
   "metadata": {},
   "outputs": [
    {
     "data": {
      "text/html": [
       "<div>\n",
       "<style scoped>\n",
       "    .dataframe tbody tr th:only-of-type {\n",
       "        vertical-align: middle;\n",
       "    }\n",
       "\n",
       "    .dataframe tbody tr th {\n",
       "        vertical-align: top;\n",
       "    }\n",
       "\n",
       "    .dataframe thead th {\n",
       "        text-align: right;\n",
       "    }\n",
       "</style>\n",
       "<table border=\"1\" class=\"dataframe\">\n",
       "  <thead>\n",
       "    <tr style=\"text-align: right;\">\n",
       "      <th></th>\n",
       "      <th>name_youtube</th>\n",
       "      <th>Subscribers</th>\n",
       "      <th>Views</th>\n",
       "      <th>Count</th>\n",
       "      <th>Channel</th>\n",
       "      <th>Started</th>\n",
       "    </tr>\n",
       "  </thead>\n",
       "  <tbody>\n",
       "    <tr>\n",
       "      <th>0</th>\n",
       "      <td>745</td>\n",
       "      <td>234000000</td>\n",
       "      <td>212900271553</td>\n",
       "      <td>18515</td>\n",
       "      <td>8</td>\n",
       "      <td>2006</td>\n",
       "    </tr>\n",
       "    <tr>\n",
       "      <th>1</th>\n",
       "      <td>897</td>\n",
       "      <td>161000000</td>\n",
       "      <td>0</td>\n",
       "      <td>0</td>\n",
       "      <td>4</td>\n",
       "      <td>2015</td>\n",
       "    </tr>\n",
       "    <tr>\n",
       "      <th>2</th>\n",
       "      <td>154</td>\n",
       "      <td>152000000</td>\n",
       "      <td>149084178448</td>\n",
       "      <td>846</td>\n",
       "      <td>2</td>\n",
       "      <td>2006</td>\n",
       "    </tr>\n",
       "    <tr>\n",
       "      <th>3</th>\n",
       "      <td>679</td>\n",
       "      <td>150000000</td>\n",
       "      <td>137828094104</td>\n",
       "      <td>103200</td>\n",
       "      <td>15</td>\n",
       "      <td>2006</td>\n",
       "    </tr>\n",
       "    <tr>\n",
       "      <th>4</th>\n",
       "      <td>547</td>\n",
       "      <td>128000000</td>\n",
       "      <td>21549128785</td>\n",
       "      <td>733</td>\n",
       "      <td>3</td>\n",
       "      <td>2012</td>\n",
       "    </tr>\n",
       "  </tbody>\n",
       "</table>\n",
       "</div>"
      ],
      "text/plain": [
       "   name_youtube  Subscribers         Views   Count  Channel  Started\n",
       "0           745    234000000  212900271553   18515        8     2006\n",
       "1           897    161000000             0       0        4     2015\n",
       "2           154    152000000  149084178448     846        2     2006\n",
       "3           679    150000000  137828094104  103200       15     2006\n",
       "4           547    128000000   21549128785     733        3     2012"
      ]
     },
     "execution_count": 32,
     "metadata": {},
     "output_type": "execute_result"
    }
   ],
   "source": [
    "data.head()"
   ]
  },
  {
   "cell_type": "markdown",
   "id": "927bd678",
   "metadata": {},
   "source": [
    "Untuk bagian ini, akan mencoba memberikan data baru selain data yang tersedia pada dataset untuk melakukan prediksi subscribers"
   ]
  },
  {
   "cell_type": "code",
   "execution_count": 34,
   "id": "18d8fb1e",
   "metadata": {},
   "outputs": [
    {
     "name": "stdout",
     "output_type": "stream",
     "text": [
      "name:589\n",
      "Views:3825084\n",
      "Count:946\n",
      "Channel:12\n",
      "Started:2021\n"
     ]
    }
   ],
   "source": [
    "name_youtube = int(input('name:'))\n",
    "Views = int(input('Views:'))\n",
    "Count = int(input('Count:'))\n",
    "Channel = float(input('Channel:'))\n",
    "Started = float(input('Started:'))\n",
    "\n",
    "ans = [name_youtube, Views, Count, Channel, Started]"
   ]
  },
  {
   "cell_type": "code",
   "execution_count": 35,
   "id": "b7b625e1",
   "metadata": {},
   "outputs": [
    {
     "name": "stderr",
     "output_type": "stream",
     "text": [
      "C:\\Users\\Acer\\AppData\\Local\\Programs\\Python\\Python310\\lib\\site-packages\\sklearn\\base.py:450: UserWarning: X does not have valid feature names, but LinearRegression was fitted with feature names\n",
      "  warnings.warn(\n"
     ]
    }
   ],
   "source": [
    "predict = model.predict([ans])"
   ]
  },
  {
   "cell_type": "code",
   "execution_count": 36,
   "id": "d0880d8b",
   "metadata": {},
   "outputs": [
    {
     "name": "stdout",
     "output_type": "stream",
     "text": [
      "Prediction: [11049354.64220992]\n"
     ]
    }
   ],
   "source": [
    "print('Prediction:',predict)"
   ]
  },
  {
   "cell_type": "markdown",
   "id": "ba27a890",
   "metadata": {},
   "source": [
    "## Kesimpulan"
   ]
  },
  {
   "cell_type": "raw",
   "id": "2dcbc660",
   "metadata": {},
   "source": [
    "Berdasarkan Analisis diatas, dapat disimpulkan bahwa:\n",
    "\n",
    "1. Channel paling banyak dibuat yaitu Channel Entertaiment\n",
    "2. Tahun 2014 menjadi tahun paling banyak dibuatnya channel di Youtube\n",
    "3. Views dan Subscribers sangat mempengaruhi Top 1000 Channel Youtube\n",
    "4. Akurasi yang didapatkan pada model yang dilakakukan sebesar 16.6%"
   ]
  },
  {
   "cell_type": "code",
   "execution_count": null,
   "id": "e07424c8",
   "metadata": {},
   "outputs": [],
   "source": []
  }
 ],
 "metadata": {
  "kernelspec": {
   "display_name": "Python 3 (ipykernel)",
   "language": "python",
   "name": "python3"
  },
  "language_info": {
   "codemirror_mode": {
    "name": "ipython",
    "version": 3
   },
   "file_extension": ".py",
   "mimetype": "text/x-python",
   "name": "python",
   "nbconvert_exporter": "python",
   "pygments_lexer": "ipython3",
   "version": "3.10.5"
  },
  "toc": {
   "base_numbering": 1,
   "nav_menu": {},
   "number_sections": true,
   "sideBar": true,
   "skip_h1_title": false,
   "title_cell": "Table of Contents",
   "title_sidebar": "Contents",
   "toc_cell": false,
   "toc_position": {},
   "toc_section_display": true,
   "toc_window_display": false
  }
 },
 "nbformat": 4,
 "nbformat_minor": 5
}
